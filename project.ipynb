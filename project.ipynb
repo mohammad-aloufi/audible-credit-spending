{
 "cells": [
  {
   "cell_type": "markdown",
   "metadata": {},
   "source": [
    "# Introduction"
   ]
  },
  {
   "cell_type": "markdown",
   "metadata": {},
   "source": [
    "In this notebook, we're going to load a dataset I manually created regarding audible books. We'll explore the dataset and then build a machine learning pipeline and create a machine learning model to help with the decision if it's good to spend a credit on a book, or just buy with cash and use the discount you're already getting."
   ]
  },
  {
   "cell_type": "code",
   "execution_count": 1,
   "metadata": {},
   "outputs": [
    {
     "data": {
      "text/html": [
       "<div>\n",
       "<style scoped>\n",
       "    .dataframe tbody tr th:only-of-type {\n",
       "        vertical-align: middle;\n",
       "    }\n",
       "\n",
       "    .dataframe tbody tr th {\n",
       "        vertical-align: top;\n",
       "    }\n",
       "\n",
       "    .dataframe thead th {\n",
       "        text-align: right;\n",
       "    }\n",
       "</style>\n",
       "<table border=\"1\" class=\"dataframe\">\n",
       "  <thead>\n",
       "    <tr style=\"text-align: right;\">\n",
       "      <th></th>\n",
       "      <th>price</th>\n",
       "      <th>hours</th>\n",
       "      <th>minutes</th>\n",
       "      <th>credit_spent</th>\n",
       "    </tr>\n",
       "  </thead>\n",
       "  <tbody>\n",
       "    <tr>\n",
       "      <th>0</th>\n",
       "      <td>24.46</td>\n",
       "      <td>13.0</td>\n",
       "      <td>15.0</td>\n",
       "      <td>1.0</td>\n",
       "    </tr>\n",
       "    <tr>\n",
       "      <th>1</th>\n",
       "      <td>19.60</td>\n",
       "      <td>6.0</td>\n",
       "      <td>57.0</td>\n",
       "      <td>0.0</td>\n",
       "    </tr>\n",
       "    <tr>\n",
       "      <th>2</th>\n",
       "      <td>19.60</td>\n",
       "      <td>5.0</td>\n",
       "      <td>21.0</td>\n",
       "      <td>0.0</td>\n",
       "    </tr>\n",
       "    <tr>\n",
       "      <th>3</th>\n",
       "      <td>19.60</td>\n",
       "      <td>6.0</td>\n",
       "      <td>0.0</td>\n",
       "      <td>0.0</td>\n",
       "    </tr>\n",
       "    <tr>\n",
       "      <th>4</th>\n",
       "      <td>24.46</td>\n",
       "      <td>13.0</td>\n",
       "      <td>54.0</td>\n",
       "      <td>1.0</td>\n",
       "    </tr>\n",
       "  </tbody>\n",
       "</table>\n",
       "</div>"
      ],
      "text/plain": [
       "   price  hours  minutes  credit_spent\n",
       "0  24.46   13.0     15.0           1.0\n",
       "1  19.60    6.0     57.0           0.0\n",
       "2  19.60    5.0     21.0           0.0\n",
       "3  19.60    6.0      0.0           0.0\n",
       "4  24.46   13.0     54.0           1.0"
      ]
     },
     "execution_count": 1,
     "metadata": {},
     "output_type": "execute_result"
    }
   ],
   "source": [
    "# Lets import the libraries and load the data\n",
    "import pandas as pd\n",
    "import time\n",
    "import pickle\n",
    "from sklearn.model_selection import train_test_split, GridSearchCV\n",
    "from sklearn.pipeline import Pipeline\n",
    "from sklearn.metrics import accuracy_score\n",
    "from sklearn.ensemble import RandomForestClassifier\n",
    "import matplotlib.pyplot as plt\n",
    "import seaborn as sns\n",
    "%matplotlib inline\n",
    "\n",
    "\n",
    "df = pd.read_csv('data.csv')\n",
    "df.head()"
   ]
  },
  {
   "cell_type": "markdown",
   "metadata": {},
   "source": [
    "The dataset has 4 features:"
   ]
  },
  {
   "cell_type": "markdown",
   "metadata": {},
   "source": [
    "1. Price: The price members pay if they want to buy the book with real money.\n",
    "2. Hours: The book length in hours. If a book length is 11 hours and 30 minutes, this would be 11.\n",
    "3. Minutes: The minutes after the last hour in a book. If a book  is 11 hours and 30 minutes in length, this would be 30.\n",
    "4. Credit_spent: This labels if I ended up spending a credit on the book or not. 0 for no, 1 for yes."
   ]
  },
  {
   "cell_type": "markdown",
   "metadata": {},
   "source": [
    "As for data cleaning, the dataset is already clean enough. Since I manually collected it myself, I was working to make it as clean as possible from the start."
   ]
  },
  {
   "cell_type": "markdown",
   "metadata": {},
   "source": [
    "I also know that the dataset has price duplicates, but the other features, (hours and minutes) have diffrent values for those columns as well. What I mean is, You may find more than one book for $17.49, however, for each one of those books, the hours and minutes values are different, thus being unique on their own."
   ]
  },
  {
   "cell_type": "markdown",
   "metadata": {},
   "source": [
    "However, we still need to do some data wrangling. As you can see, we have the hours and minutes data columns. What we'll do is we'll combine them into one column called duration, and then drop the columns we don't need anymore."
   ]
  },
  {
   "cell_type": "code",
   "execution_count": 2,
   "metadata": {},
   "outputs": [
    {
     "data": {
      "text/html": [
       "<div>\n",
       "<style scoped>\n",
       "    .dataframe tbody tr th:only-of-type {\n",
       "        vertical-align: middle;\n",
       "    }\n",
       "\n",
       "    .dataframe tbody tr th {\n",
       "        vertical-align: top;\n",
       "    }\n",
       "\n",
       "    .dataframe thead th {\n",
       "        text-align: right;\n",
       "    }\n",
       "</style>\n",
       "<table border=\"1\" class=\"dataframe\">\n",
       "  <thead>\n",
       "    <tr style=\"text-align: right;\">\n",
       "      <th></th>\n",
       "      <th>price</th>\n",
       "      <th>hours</th>\n",
       "      <th>minutes</th>\n",
       "      <th>credit_spent</th>\n",
       "      <th>duration</th>\n",
       "    </tr>\n",
       "  </thead>\n",
       "  <tbody>\n",
       "    <tr>\n",
       "      <th>0</th>\n",
       "      <td>24.46</td>\n",
       "      <td>13.0</td>\n",
       "      <td>15.0</td>\n",
       "      <td>1.0</td>\n",
       "      <td>13.25</td>\n",
       "    </tr>\n",
       "    <tr>\n",
       "      <th>1</th>\n",
       "      <td>19.60</td>\n",
       "      <td>6.0</td>\n",
       "      <td>57.0</td>\n",
       "      <td>0.0</td>\n",
       "      <td>6.95</td>\n",
       "    </tr>\n",
       "    <tr>\n",
       "      <th>2</th>\n",
       "      <td>19.60</td>\n",
       "      <td>5.0</td>\n",
       "      <td>21.0</td>\n",
       "      <td>0.0</td>\n",
       "      <td>5.35</td>\n",
       "    </tr>\n",
       "    <tr>\n",
       "      <th>3</th>\n",
       "      <td>19.60</td>\n",
       "      <td>6.0</td>\n",
       "      <td>0.0</td>\n",
       "      <td>0.0</td>\n",
       "      <td>6.00</td>\n",
       "    </tr>\n",
       "    <tr>\n",
       "      <th>4</th>\n",
       "      <td>24.46</td>\n",
       "      <td>13.0</td>\n",
       "      <td>54.0</td>\n",
       "      <td>1.0</td>\n",
       "      <td>13.90</td>\n",
       "    </tr>\n",
       "  </tbody>\n",
       "</table>\n",
       "</div>"
      ],
      "text/plain": [
       "   price  hours  minutes  credit_spent  duration\n",
       "0  24.46   13.0     15.0           1.0     13.25\n",
       "1  19.60    6.0     57.0           0.0      6.95\n",
       "2  19.60    5.0     21.0           0.0      5.35\n",
       "3  19.60    6.0      0.0           0.0      6.00\n",
       "4  24.46   13.0     54.0           1.0     13.90"
      ]
     },
     "execution_count": 2,
     "metadata": {},
     "output_type": "execute_result"
    }
   ],
   "source": [
    "df['duration'] = ((df['hours']*60)+df['minutes'])/60\n",
    "df.head()"
   ]
  },
  {
   "cell_type": "markdown",
   "metadata": {},
   "source": [
    "Now we'll drop the minutes and hours columns since we don't need them anymore"
   ]
  },
  {
   "cell_type": "code",
   "execution_count": 3,
   "metadata": {},
   "outputs": [
    {
     "data": {
      "text/html": [
       "<div>\n",
       "<style scoped>\n",
       "    .dataframe tbody tr th:only-of-type {\n",
       "        vertical-align: middle;\n",
       "    }\n",
       "\n",
       "    .dataframe tbody tr th {\n",
       "        vertical-align: top;\n",
       "    }\n",
       "\n",
       "    .dataframe thead th {\n",
       "        text-align: right;\n",
       "    }\n",
       "</style>\n",
       "<table border=\"1\" class=\"dataframe\">\n",
       "  <thead>\n",
       "    <tr style=\"text-align: right;\">\n",
       "      <th></th>\n",
       "      <th>price</th>\n",
       "      <th>credit_spent</th>\n",
       "      <th>duration</th>\n",
       "    </tr>\n",
       "  </thead>\n",
       "  <tbody>\n",
       "    <tr>\n",
       "      <th>0</th>\n",
       "      <td>24.46</td>\n",
       "      <td>1.0</td>\n",
       "      <td>13.25</td>\n",
       "    </tr>\n",
       "    <tr>\n",
       "      <th>1</th>\n",
       "      <td>19.60</td>\n",
       "      <td>0.0</td>\n",
       "      <td>6.95</td>\n",
       "    </tr>\n",
       "    <tr>\n",
       "      <th>2</th>\n",
       "      <td>19.60</td>\n",
       "      <td>0.0</td>\n",
       "      <td>5.35</td>\n",
       "    </tr>\n",
       "    <tr>\n",
       "      <th>3</th>\n",
       "      <td>19.60</td>\n",
       "      <td>0.0</td>\n",
       "      <td>6.00</td>\n",
       "    </tr>\n",
       "    <tr>\n",
       "      <th>4</th>\n",
       "      <td>24.46</td>\n",
       "      <td>1.0</td>\n",
       "      <td>13.90</td>\n",
       "    </tr>\n",
       "  </tbody>\n",
       "</table>\n",
       "</div>"
      ],
      "text/plain": [
       "   price  credit_spent  duration\n",
       "0  24.46           1.0     13.25\n",
       "1  19.60           0.0      6.95\n",
       "2  19.60           0.0      5.35\n",
       "3  19.60           0.0      6.00\n",
       "4  24.46           1.0     13.90"
      ]
     },
     "execution_count": 3,
     "metadata": {},
     "output_type": "execute_result"
    }
   ],
   "source": [
    "# Drop unneeded columns\n",
    "df.drop(columns=['hours', 'minutes'], axis=1, inplace=True)\n",
    "df.head()"
   ]
  },
  {
   "cell_type": "markdown",
   "metadata": {},
   "source": [
    "# Part 1: Data exploration"
   ]
  },
  {
   "cell_type": "markdown",
   "metadata": {},
   "source": [
    "We'll check a few descriptive stitistics here"
   ]
  },
  {
   "cell_type": "code",
   "execution_count": 4,
   "metadata": {},
   "outputs": [
    {
     "data": {
      "text/plain": [
       "(100, 3)"
      ]
     },
     "execution_count": 4,
     "metadata": {},
     "output_type": "execute_result"
    }
   ],
   "source": [
    "#Look at the dataset shape\n",
    "df.shape"
   ]
  },
  {
   "cell_type": "code",
   "execution_count": 5,
   "metadata": {},
   "outputs": [
    {
     "data": {
      "text/plain": [
       "count    100.000000\n",
       "mean      21.666200\n",
       "std        8.865478\n",
       "min        2.760000\n",
       "25%       14.690000\n",
       "50%       19.600000\n",
       "75%       24.735000\n",
       "max       46.990000\n",
       "Name: price, dtype: float64"
      ]
     },
     "execution_count": 5,
     "metadata": {},
     "output_type": "execute_result"
    }
   ],
   "source": [
    "#Describe the price column\n",
    "df['price'].describe()"
   ]
  },
  {
   "cell_type": "code",
   "execution_count": 6,
   "metadata": {},
   "outputs": [
    {
     "data": {
      "text/plain": [
       "count    100.000000\n",
       "mean      18.257500\n",
       "std       11.339024\n",
       "min        1.050000\n",
       "25%        9.745833\n",
       "50%       14.891667\n",
       "75%       24.833333\n",
       "max       55.083333\n",
       "Name: duration, dtype: float64"
      ]
     },
     "execution_count": 6,
     "metadata": {},
     "output_type": "execute_result"
    }
   ],
   "source": [
    "#Describe the duration column\n",
    "df['duration'].describe()"
   ]
  },
  {
   "cell_type": "code",
   "execution_count": 7,
   "metadata": {},
   "outputs": [
    {
     "data": {
      "text/plain": [
       "Text(0, 0.5, 'Count')"
      ]
     },
     "execution_count": 7,
     "metadata": {},
     "output_type": "execute_result"
    },
    {
     "data": {
      "image/png": "[encoded data removed]",
      "text/plain": [
       "<Figure size 432x288 with 1 Axes>"
      ]
     },
     "metadata": {
      "needs_background": "light"
     },
     "output_type": "display_data"
    }
   ],
   "source": [
    "# Graph with credit spending\n",
    "sns.countplot(data=df, x='credit_spent', color='black')\n",
    "plt.xlabel('credit_spent')\n",
    "plt.ylabel('Count')"
   ]
  },
  {
   "cell_type": "markdown",
   "metadata": {},
   "source": [
    "# Part 2: Model pipeline"
   ]
  },
  {
   "cell_type": "markdown",
   "metadata": {},
   "source": [
    "We'll create a few functions that make the model pipeline, evaluate it, and then save it."
   ]
  },
  {
   "cell_type": "markdown",
   "metadata": {
    "lines_to_next_cell": 2
   },
   "source": [
    "When we build the model pipeline, we'll use GridSearchCV. We'll use it because the way it works, we give it a few parameters like a grid, and then it it combines them together in every possible way, giving us the best values hopefully."
   ]
  },
  {
   "cell_type": "code",
   "execution_count": 8,
   "metadata": {},
   "outputs": [],
   "source": [
    "def build_model(solution=2):\n",
    "    '''\n",
    "    Builds a model with a pipeline.\n",
    "\n",
    "    Doesn't accept any args.\n",
    "\n",
    "    Returns a GridSearch object.\n",
    "    '''\n",
    "    pipeline = Pipeline([\n",
    "        ('clf', RandomForestClassifier())\n",
    "    ])\n",
    "    print(RandomForestClassifier().get_params().keys())\n",
    "    if solution == 1:\n",
    "        parameters = {\n",
    "            'clf__max_depth': [10, 10, 10],\n",
    "            'clf__n_estimators': [10, 10, 10],\n",
    "            'clf__min_samples_split': [2, 3, 4],\n",
    "            'clf__random_state': [42],\n",
    "            'clf__max_leaf_nodes': [10, 10, 10]\n",
    "        }\n",
    "    if solution == 2:\n",
    "        parameters = {\n",
    "            'clf__max_depth': [1, 5, 10],\n",
    "            'clf__n_estimators': [1, 5, 10],\n",
    "            'clf__min_samples_split': [2, 3, 4],\n",
    "            'clf__random_state': [42],\n",
    "            'clf__max_leaf_nodes': [2, 5, 10]\n",
    "        }\n",
    "\n",
    "    cv = GridSearchCV(pipeline, param_grid=parameters, verbose=3)\n",
    "    return cv"
   ]
  },
  {
   "cell_type": "markdown",
   "metadata": {
    "lines_to_next_cell": 2
   },
   "source": [
    "We need a function to evaluate the model after creating it, so we'll create one. We'll use accuracy_score to measure how well the model is performing because we want to know the accuracy of the model when dealing with unseen data. The accuracy_score gives us just that."
   ]
  },
  {
   "cell_type": "code",
   "execution_count": 9,
   "metadata": {},
   "outputs": [],
   "source": [
    "def evaluate_model(model, X_test, Y_test):\n",
    "    '''\n",
    "    evaluates the model.\n",
    "\n",
    "    Input:\n",
    "    model - the model you want to be evaluated.\n",
    "    X_test - A dataframe with the testing features.\n",
    "    Y_test - A dataframe with the testing labels.\n",
    "\n",
    "    '''\n",
    "    Y_pred = model.predict(X_test)\n",
    "    print('{}%'.format(round(accuracy_score(Y_test, Y_pred), 2)*100))"
   ]
  },
  {
   "cell_type": "markdown",
   "metadata": {
    "lines_to_next_cell": 2
   },
   "source": [
    "Now we'll create a function to save the model so we don't have to train it everytime."
   ]
  },
  {
   "cell_type": "code",
   "execution_count": 10,
   "metadata": {},
   "outputs": [],
   "source": [
    "def save_model(model, model_filepath):\n",
    "    '''Saves the model into the path specified.'''\n",
    "    pickle.dump(model, open(model_filepath, 'wb'))"
   ]
  },
  {
   "cell_type": "markdown",
   "metadata": {},
   "source": [
    "# Part 3: Training the model"
   ]
  },
  {
   "cell_type": "markdown",
   "metadata": {},
   "source": [
    "It's time for us to train the model, now this might take sometime depending on your machine, but overall this shouldn't take this long because this dataset is small."
   ]
  },
  {
   "cell_type": "markdown",
   "metadata": {
    "lines_to_next_cell": 2
   },
   "source": [
    "We first need to set the features and labels"
   ]
  },
  {
   "cell_type": "code",
   "execution_count": 11,
   "metadata": {},
   "outputs": [],
   "source": [
    "X = df[['price', 'duration']]\n",
    "Y = df['credit_spent']"
   ]
  },
  {
   "cell_type": "code",
   "execution_count": 12,
   "metadata": {},
   "outputs": [],
   "source": [
    "# Split the dataset into training and testing set\n",
    "X_train, X_test, Y_train, Y_test = train_test_split(X, Y, test_size=0.2)"
   ]
  },
  {
   "cell_type": "markdown",
   "metadata": {},
   "source": [
    "Now we need to build the model. The build_model function contains the hyper parameters for tuning the model. I preserved some of the old parameters I used before so we can compare them for presentation's sake. Lets check the parameters that didn't do well first. We do that by passing solution=1 to the function, to tell it we need to use the old parameters."
   ]
  },
  {
   "cell_type": "code",
   "execution_count": 13,
   "metadata": {},
   "outputs": [
    {
     "name": "stdout",
     "output_type": "stream",
     "text": [
      "dict_keys(['bootstrap', 'ccp_alpha', 'class_weight', 'criterion', 'max_depth', 'max_features', 'max_leaf_nodes', 'max_samples', 'min_impurity_decrease', 'min_samples_leaf', 'min_samples_split', 'min_weight_fraction_leaf', 'n_estimators', 'n_jobs', 'oob_score', 'random_state', 'verbose', 'warm_start'])\n"
     ]
    }
   ],
   "source": [
    "model = build_model(solution=1)"
   ]
  },
  {
   "cell_type": "markdown",
   "metadata": {},
   "source": [
    "We'll train the model to see how well it does"
   ]
  },
  {
   "cell_type": "code",
   "execution_count": 14,
   "metadata": {},
   "outputs": [
    {
     "name": "stdout",
     "output_type": "stream",
     "text": [
      "Training model...\n",
      "Fitting 5 folds for each of 81 candidates, totalling 405 fits\n",
      "[CV 1/5] END clf__max_depth=10, clf__max_leaf_nodes=10, clf__min_samples_split=2, clf__n_estimators=10, clf__random_state=42;, score=0.750 total time=   0.0s\n",
      "[CV 2/5] END clf__max_depth=10, clf__max_leaf_nodes=10, clf__min_samples_split=2, clf__n_estimators=10, clf__random_state=42;, score=1.000 total time=   0.0s\n",
      "[CV 3/5] END clf__max_depth=10, clf__max_leaf_nodes=10, clf__min_samples_split=2, clf__n_estimators=10, clf__random_state=42;, score=0.812 total time=   0.0s\n",
      "[CV 4/5] END clf__max_depth=10, clf__max_leaf_nodes=10, clf__min_samples_split=2, clf__n_estimators=10, clf__random_state=42;, score=0.938 total time=   0.0s\n",
      "[CV 5/5] END clf__max_depth=10, clf__max_leaf_nodes=10, clf__min_samples_split=2, clf__n_estimators=10, clf__random_state=42;, score=0.938 total time=   0.0s\n",
      "[CV 1/5] END clf__max_depth=10, clf__max_leaf_nodes=10, clf__min_samples_split=2, clf__n_estimators=10, clf__random_state=42;, score=0.750 total time=   0.0s\n",
      "[CV 2/5] END clf__max_depth=10, clf__max_leaf_nodes=10, clf__min_samples_split=2, clf__n_estimators=10, clf__random_state=42;, score=1.000 total time=   0.0s\n",
      "[CV 3/5] END clf__max_depth=10, clf__max_leaf_nodes=10, clf__min_samples_split=2, clf__n_estimators=10, clf__random_state=42;, score=0.812 total time=   0.0s\n",
      "[CV 4/5] END clf__max_depth=10, clf__max_leaf_nodes=10, clf__min_samples_split=2, clf__n_estimators=10, clf__random_state=42;, score=0.938 total time=   0.0s\n",
      "[CV 5/5] END clf__max_depth=10, clf__max_leaf_nodes=10, clf__min_samples_split=2, clf__n_estimators=10, clf__random_state=42;, score=0.938 total time=   0.0s\n",
      "[CV 1/5] END clf__max_depth=10, clf__max_leaf_nodes=10, clf__min_samples_split=2, clf__n_estimators=10, clf__random_state=42;, score=0.750 total time=   0.0s\n",
      "[CV 2/5] END clf__max_depth=10, clf__max_leaf_nodes=10, clf__min_samples_split=2, clf__n_estimators=10, clf__random_state=42;, score=1.000 total time=   0.0s\n",
      "[CV 3/5] END clf__max_depth=10, clf__max_leaf_nodes=10, clf__min_samples_split=2, clf__n_estimators=10, clf__random_state=42;, score=0.812 total time=   0.0s\n",
      "[CV 4/5] END clf__max_depth=10, clf__max_leaf_nodes=10, clf__min_samples_split=2, clf__n_estimators=10, clf__random_state=42;, score=0.938 total time=   0.0s\n",
      "[CV 5/5] END clf__max_depth=10, clf__max_leaf_nodes=10, clf__min_samples_split=2, clf__n_estimators=10, clf__random_state=42;, score=0.938 total time=   0.0s\n",
      "[CV 1/5] END clf__max_depth=10, clf__max_leaf_nodes=10, clf__min_samples_split=3, clf__n_estimators=10, clf__random_state=42;, score=0.750 total time=   0.0s\n",
      "[CV 2/5] END clf__max_depth=10, clf__max_leaf_nodes=10, clf__min_samples_split=3, clf__n_estimators=10, clf__random_state=42;, score=1.000 total time=   0.0s\n",
      "[CV 3/5] END clf__max_depth=10, clf__max_leaf_nodes=10, clf__min_samples_split=3, clf__n_estimators=10, clf__random_state=42;, score=0.812 total time=   0.0s\n",
      "[CV 4/5] END clf__max_depth=10, clf__max_leaf_nodes=10, clf__min_samples_split=3, clf__n_estimators=10, clf__random_state=42;, score=0.938 total time=   0.0s\n",
      "[CV 5/5] END clf__max_depth=10, clf__max_leaf_nodes=10, clf__min_samples_split=3, clf__n_estimators=10, clf__random_state=42;, score=0.938 total time=   0.0s\n",
      "[CV 1/5] END clf__max_depth=10, clf__max_leaf_nodes=10, clf__min_samples_split=3, clf__n_estimators=10, clf__random_state=42;, score=0.750 total time=   0.0s\n",
      "[CV 2/5] END clf__max_depth=10, clf__max_leaf_nodes=10, clf__min_samples_split=3, clf__n_estimators=10, clf__random_state=42;, score=1.000 total time=   0.0s\n",
      "[CV 3/5] END clf__max_depth=10, clf__max_leaf_nodes=10, clf__min_samples_split=3, clf__n_estimators=10, clf__random_state=42;, score=0.812 total time=   0.0s\n",
      "[CV 4/5] END clf__max_depth=10, clf__max_leaf_nodes=10, clf__min_samples_split=3, clf__n_estimators=10, clf__random_state=42;, score=0.938 total time=   0.0s\n",
      "[CV 5/5] END clf__max_depth=10, clf__max_leaf_nodes=10, clf__min_samples_split=3, clf__n_estimators=10, clf__random_state=42;, score=0.938 total time=   0.0s\n",
      "[CV 1/5] END clf__max_depth=10, clf__max_leaf_nodes=10, clf__min_samples_split=3, clf__n_estimators=10, clf__random_state=42;, score=0.750 total time=   0.0s\n",
      "[CV 2/5] END clf__max_depth=10, clf__max_leaf_nodes=10, clf__min_samples_split=3, clf__n_estimators=10, clf__random_state=42;, score=1.000 total time=   0.0s\n",
      "[CV 3/5] END clf__max_depth=10, clf__max_leaf_nodes=10, clf__min_samples_split=3, clf__n_estimators=10, clf__random_state=42;, score=0.812 total time=   0.0s\n",
      "[CV 4/5] END clf__max_depth=10, clf__max_leaf_nodes=10, clf__min_samples_split=3, clf__n_estimators=10, clf__random_state=42;, score=0.938 total time=   0.0s\n",
      "[CV 5/5] END clf__max_depth=10, clf__max_leaf_nodes=10, clf__min_samples_split=3, clf__n_estimators=10, clf__random_state=42;, score=0.938 total time=   0.0s\n",
      "[CV 1/5] END clf__max_depth=10, clf__max_leaf_nodes=10, clf__min_samples_split=4, clf__n_estimators=10, clf__random_state=42;, score=0.750 total time=   0.0s\n",
      "[CV 2/5] END clf__max_depth=10, clf__max_leaf_nodes=10, clf__min_samples_split=4, clf__n_estimators=10, clf__random_state=42;, score=1.000 total time=   0.0s\n",
      "[CV 3/5] END clf__max_depth=10, clf__max_leaf_nodes=10, clf__min_samples_split=4, clf__n_estimators=10, clf__random_state=42;, score=0.812 total time=   0.0s\n",
      "[CV 4/5] END clf__max_depth=10, clf__max_leaf_nodes=10, clf__min_samples_split=4, clf__n_estimators=10, clf__random_state=42;, score=0.938 total time=   0.0s\n",
      "[CV 5/5] END clf__max_depth=10, clf__max_leaf_nodes=10, clf__min_samples_split=4, clf__n_estimators=10, clf__random_state=42;, score=0.938 total time=   0.0s\n",
      "[CV 1/5] END clf__max_depth=10, clf__max_leaf_nodes=10, clf__min_samples_split=4, clf__n_estimators=10, clf__random_state=42;, score=0.750 total time=   0.0s\n",
      "[CV 2/5] END clf__max_depth=10, clf__max_leaf_nodes=10, clf__min_samples_split=4, clf__n_estimators=10, clf__random_state=42;, score=1.000 total time=   0.0s\n",
      "[CV 3/5] END clf__max_depth=10, clf__max_leaf_nodes=10, clf__min_samples_split=4, clf__n_estimators=10, clf__random_state=42;, score=0.812 total time=   0.0s\n",
      "[CV 4/5] END clf__max_depth=10, clf__max_leaf_nodes=10, clf__min_samples_split=4, clf__n_estimators=10, clf__random_state=42;, score=0.938 total time=   0.0s\n",
      "[CV 5/5] END clf__max_depth=10, clf__max_leaf_nodes=10, clf__min_samples_split=4, clf__n_estimators=10, clf__random_state=42;, score=0.938 total time=   0.0s\n",
      "[CV 1/5] END clf__max_depth=10, clf__max_leaf_nodes=10, clf__min_samples_split=4, clf__n_estimators=10, clf__random_state=42;, score=0.750 total time=   0.0s\n",
      "[CV 2/5] END clf__max_depth=10, clf__max_leaf_nodes=10, clf__min_samples_split=4, clf__n_estimators=10, clf__random_state=42;, score=1.000 total time=   0.0s\n",
      "[CV 3/5] END clf__max_depth=10, clf__max_leaf_nodes=10, clf__min_samples_split=4, clf__n_estimators=10, clf__random_state=42;, score=0.812 total time=   0.0s\n",
      "[CV 4/5] END clf__max_depth=10, clf__max_leaf_nodes=10, clf__min_samples_split=4, clf__n_estimators=10, clf__random_state=42;, score=0.938 total time=   0.0s\n",
      "[CV 5/5] END clf__max_depth=10, clf__max_leaf_nodes=10, clf__min_samples_split=4, clf__n_estimators=10, clf__random_state=42;, score=0.938 total time=   0.0s\n",
      "[CV 1/5] END clf__max_depth=10, clf__max_leaf_nodes=10, clf__min_samples_split=2, clf__n_estimators=10, clf__random_state=42;, score=0.750 total time=   0.0s\n",
      "[CV 2/5] END clf__max_depth=10, clf__max_leaf_nodes=10, clf__min_samples_split=2, clf__n_estimators=10, clf__random_state=42;, score=1.000 total time=   0.0s\n",
      "[CV 3/5] END clf__max_depth=10, clf__max_leaf_nodes=10, clf__min_samples_split=2, clf__n_estimators=10, clf__random_state=42;, score=0.812 total time=   0.0s\n",
      "[CV 4/5] END clf__max_depth=10, clf__max_leaf_nodes=10, clf__min_samples_split=2, clf__n_estimators=10, clf__random_state=42;, score=0.938 total time=   0.0s\n",
      "[CV 5/5] END clf__max_depth=10, clf__max_leaf_nodes=10, clf__min_samples_split=2, clf__n_estimators=10, clf__random_state=42;, score=0.938 total time=   0.0s\n",
      "[CV 1/5] END clf__max_depth=10, clf__max_leaf_nodes=10, clf__min_samples_split=2, clf__n_estimators=10, clf__random_state=42;, score=0.750 total time=   0.0s\n",
      "[CV 2/5] END clf__max_depth=10, clf__max_leaf_nodes=10, clf__min_samples_split=2, clf__n_estimators=10, clf__random_state=42;, score=1.000 total time=   0.0s\n",
      "[CV 3/5] END clf__max_depth=10, clf__max_leaf_nodes=10, clf__min_samples_split=2, clf__n_estimators=10, clf__random_state=42;, score=0.812 total time=   0.0s\n",
      "[CV 4/5] END clf__max_depth=10, clf__max_leaf_nodes=10, clf__min_samples_split=2, clf__n_estimators=10, clf__random_state=42;, score=0.938 total time=   0.0s\n",
      "[CV 5/5] END clf__max_depth=10, clf__max_leaf_nodes=10, clf__min_samples_split=2, clf__n_estimators=10, clf__random_state=42;, score=0.938 total time=   0.0s\n",
      "[CV 1/5] END clf__max_depth=10, clf__max_leaf_nodes=10, clf__min_samples_split=2, clf__n_estimators=10, clf__random_state=42;, score=0.750 total time=   0.0s\n",
      "[CV 2/5] END clf__max_depth=10, clf__max_leaf_nodes=10, clf__min_samples_split=2, clf__n_estimators=10, clf__random_state=42;, score=1.000 total time=   0.0s\n",
      "[CV 3/5] END clf__max_depth=10, clf__max_leaf_nodes=10, clf__min_samples_split=2, clf__n_estimators=10, clf__random_state=42;, score=0.812 total time=   0.0s\n",
      "[CV 4/5] END clf__max_depth=10, clf__max_leaf_nodes=10, clf__min_samples_split=2, clf__n_estimators=10, clf__random_state=42;, score=0.938 total time=   0.0s\n",
      "[CV 5/5] END clf__max_depth=10, clf__max_leaf_nodes=10, clf__min_samples_split=2, clf__n_estimators=10, clf__random_state=42;, score=0.938 total time=   0.0s\n"
     ]
    },
    {
     "name": "stdout",
     "output_type": "stream",
     "text": [
      "[CV 1/5] END clf__max_depth=10, clf__max_leaf_nodes=10, clf__min_samples_split=3, clf__n_estimators=10, clf__random_state=42;, score=0.750 total time=   0.0s\n",
      "[CV 2/5] END clf__max_depth=10, clf__max_leaf_nodes=10, clf__min_samples_split=3, clf__n_estimators=10, clf__random_state=42;, score=1.000 total time=   0.0s\n",
      "[CV 3/5] END clf__max_depth=10, clf__max_leaf_nodes=10, clf__min_samples_split=3, clf__n_estimators=10, clf__random_state=42;, score=0.812 total time=   0.0s\n",
      "[CV 4/5] END clf__max_depth=10, clf__max_leaf_nodes=10, clf__min_samples_split=3, clf__n_estimators=10, clf__random_state=42;, score=0.938 total time=   0.0s\n",
      "[CV 5/5] END clf__max_depth=10, clf__max_leaf_nodes=10, clf__min_samples_split=3, clf__n_estimators=10, clf__random_state=42;, score=0.938 total time=   0.0s\n",
      "[CV 1/5] END clf__max_depth=10, clf__max_leaf_nodes=10, clf__min_samples_split=3, clf__n_estimators=10, clf__random_state=42;, score=0.750 total time=   0.0s\n",
      "[CV 2/5] END clf__max_depth=10, clf__max_leaf_nodes=10, clf__min_samples_split=3, clf__n_estimators=10, clf__random_state=42;, score=1.000 total time=   0.0s\n",
      "[CV 3/5] END clf__max_depth=10, clf__max_leaf_nodes=10, clf__min_samples_split=3, clf__n_estimators=10, clf__random_state=42;, score=0.812 total time=   0.0s\n",
      "[CV 4/5] END clf__max_depth=10, clf__max_leaf_nodes=10, clf__min_samples_split=3, clf__n_estimators=10, clf__random_state=42;, score=0.938 total time=   0.0s\n",
      "[CV 5/5] END clf__max_depth=10, clf__max_leaf_nodes=10, clf__min_samples_split=3, clf__n_estimators=10, clf__random_state=42;, score=0.938 total time=   0.0s\n",
      "[CV 1/5] END clf__max_depth=10, clf__max_leaf_nodes=10, clf__min_samples_split=3, clf__n_estimators=10, clf__random_state=42;, score=0.750 total time=   0.0s\n",
      "[CV 2/5] END clf__max_depth=10, clf__max_leaf_nodes=10, clf__min_samples_split=3, clf__n_estimators=10, clf__random_state=42;, score=1.000 total time=   0.0s\n",
      "[CV 3/5] END clf__max_depth=10, clf__max_leaf_nodes=10, clf__min_samples_split=3, clf__n_estimators=10, clf__random_state=42;, score=0.812 total time=   0.0s\n",
      "[CV 4/5] END clf__max_depth=10, clf__max_leaf_nodes=10, clf__min_samples_split=3, clf__n_estimators=10, clf__random_state=42;, score=0.938 total time=   0.0s\n",
      "[CV 5/5] END clf__max_depth=10, clf__max_leaf_nodes=10, clf__min_samples_split=3, clf__n_estimators=10, clf__random_state=42;, score=0.938 total time=   0.0s\n",
      "[CV 1/5] END clf__max_depth=10, clf__max_leaf_nodes=10, clf__min_samples_split=4, clf__n_estimators=10, clf__random_state=42;, score=0.750 total time=   0.0s\n",
      "[CV 2/5] END clf__max_depth=10, clf__max_leaf_nodes=10, clf__min_samples_split=4, clf__n_estimators=10, clf__random_state=42;, score=1.000 total time=   0.0s\n",
      "[CV 3/5] END clf__max_depth=10, clf__max_leaf_nodes=10, clf__min_samples_split=4, clf__n_estimators=10, clf__random_state=42;, score=0.812 total time=   0.0s\n",
      "[CV 4/5] END clf__max_depth=10, clf__max_leaf_nodes=10, clf__min_samples_split=4, clf__n_estimators=10, clf__random_state=42;, score=0.938 total time=   0.0s\n",
      "[CV 5/5] END clf__max_depth=10, clf__max_leaf_nodes=10, clf__min_samples_split=4, clf__n_estimators=10, clf__random_state=42;, score=0.938 total time=   0.0s\n",
      "[CV 1/5] END clf__max_depth=10, clf__max_leaf_nodes=10, clf__min_samples_split=4, clf__n_estimators=10, clf__random_state=42;, score=0.750 total time=   0.0s\n",
      "[CV 2/5] END clf__max_depth=10, clf__max_leaf_nodes=10, clf__min_samples_split=4, clf__n_estimators=10, clf__random_state=42;, score=1.000 total time=   0.0s\n",
      "[CV 3/5] END clf__max_depth=10, clf__max_leaf_nodes=10, clf__min_samples_split=4, clf__n_estimators=10, clf__random_state=42;, score=0.812 total time=   0.0s\n",
      "[CV 4/5] END clf__max_depth=10, clf__max_leaf_nodes=10, clf__min_samples_split=4, clf__n_estimators=10, clf__random_state=42;, score=0.938 total time=   0.0s\n",
      "[CV 5/5] END clf__max_depth=10, clf__max_leaf_nodes=10, clf__min_samples_split=4, clf__n_estimators=10, clf__random_state=42;, score=0.938 total time=   0.0s\n",
      "[CV 1/5] END clf__max_depth=10, clf__max_leaf_nodes=10, clf__min_samples_split=4, clf__n_estimators=10, clf__random_state=42;, score=0.750 total time=   0.0s\n",
      "[CV 2/5] END clf__max_depth=10, clf__max_leaf_nodes=10, clf__min_samples_split=4, clf__n_estimators=10, clf__random_state=42;, score=1.000 total time=   0.0s\n",
      "[CV 3/5] END clf__max_depth=10, clf__max_leaf_nodes=10, clf__min_samples_split=4, clf__n_estimators=10, clf__random_state=42;, score=0.812 total time=   0.0s\n",
      "[CV 4/5] END clf__max_depth=10, clf__max_leaf_nodes=10, clf__min_samples_split=4, clf__n_estimators=10, clf__random_state=42;, score=0.938 total time=   0.0s\n",
      "[CV 5/5] END clf__max_depth=10, clf__max_leaf_nodes=10, clf__min_samples_split=4, clf__n_estimators=10, clf__random_state=42;, score=0.938 total time=   0.0s\n",
      "[CV 1/5] END clf__max_depth=10, clf__max_leaf_nodes=10, clf__min_samples_split=2, clf__n_estimators=10, clf__random_state=42;, score=0.750 total time=   0.0s\n",
      "[CV 2/5] END clf__max_depth=10, clf__max_leaf_nodes=10, clf__min_samples_split=2, clf__n_estimators=10, clf__random_state=42;, score=1.000 total time=   0.0s\n",
      "[CV 3/5] END clf__max_depth=10, clf__max_leaf_nodes=10, clf__min_samples_split=2, clf__n_estimators=10, clf__random_state=42;, score=0.812 total time=   0.0s\n",
      "[CV 4/5] END clf__max_depth=10, clf__max_leaf_nodes=10, clf__min_samples_split=2, clf__n_estimators=10, clf__random_state=42;, score=0.938 total time=   0.0s\n",
      "[CV 5/5] END clf__max_depth=10, clf__max_leaf_nodes=10, clf__min_samples_split=2, clf__n_estimators=10, clf__random_state=42;, score=0.938 total time=   0.0s\n",
      "[CV 1/5] END clf__max_depth=10, clf__max_leaf_nodes=10, clf__min_samples_split=2, clf__n_estimators=10, clf__random_state=42;, score=0.750 total time=   0.0s\n",
      "[CV 2/5] END clf__max_depth=10, clf__max_leaf_nodes=10, clf__min_samples_split=2, clf__n_estimators=10, clf__random_state=42;, score=1.000 total time=   0.0s\n",
      "[CV 3/5] END clf__max_depth=10, clf__max_leaf_nodes=10, clf__min_samples_split=2, clf__n_estimators=10, clf__random_state=42;, score=0.812 total time=   0.0s\n",
      "[CV 4/5] END clf__max_depth=10, clf__max_leaf_nodes=10, clf__min_samples_split=2, clf__n_estimators=10, clf__random_state=42;, score=0.938 total time=   0.0s\n",
      "[CV 5/5] END clf__max_depth=10, clf__max_leaf_nodes=10, clf__min_samples_split=2, clf__n_estimators=10, clf__random_state=42;, score=0.938 total time=   0.0s\n",
      "[CV 1/5] END clf__max_depth=10, clf__max_leaf_nodes=10, clf__min_samples_split=2, clf__n_estimators=10, clf__random_state=42;, score=0.750 total time=   0.0s\n",
      "[CV 2/5] END clf__max_depth=10, clf__max_leaf_nodes=10, clf__min_samples_split=2, clf__n_estimators=10, clf__random_state=42;, score=1.000 total time=   0.0s\n",
      "[CV 3/5] END clf__max_depth=10, clf__max_leaf_nodes=10, clf__min_samples_split=2, clf__n_estimators=10, clf__random_state=42;, score=0.812 total time=   0.0s\n",
      "[CV 4/5] END clf__max_depth=10, clf__max_leaf_nodes=10, clf__min_samples_split=2, clf__n_estimators=10, clf__random_state=42;, score=0.938 total time=   0.0s\n",
      "[CV 5/5] END clf__max_depth=10, clf__max_leaf_nodes=10, clf__min_samples_split=2, clf__n_estimators=10, clf__random_state=42;, score=0.938 total time=   0.0s\n",
      "[CV 1/5] END clf__max_depth=10, clf__max_leaf_nodes=10, clf__min_samples_split=3, clf__n_estimators=10, clf__random_state=42;, score=0.750 total time=   0.0s\n",
      "[CV 2/5] END clf__max_depth=10, clf__max_leaf_nodes=10, clf__min_samples_split=3, clf__n_estimators=10, clf__random_state=42;, score=1.000 total time=   0.0s\n",
      "[CV 3/5] END clf__max_depth=10, clf__max_leaf_nodes=10, clf__min_samples_split=3, clf__n_estimators=10, clf__random_state=42;, score=0.812 total time=   0.0s\n",
      "[CV 4/5] END clf__max_depth=10, clf__max_leaf_nodes=10, clf__min_samples_split=3, clf__n_estimators=10, clf__random_state=42;, score=0.938 total time=   0.0s\n",
      "[CV 5/5] END clf__max_depth=10, clf__max_leaf_nodes=10, clf__min_samples_split=3, clf__n_estimators=10, clf__random_state=42;, score=0.938 total time=   0.0s\n",
      "[CV 1/5] END clf__max_depth=10, clf__max_leaf_nodes=10, clf__min_samples_split=3, clf__n_estimators=10, clf__random_state=42;, score=0.750 total time=   0.0s\n",
      "[CV 2/5] END clf__max_depth=10, clf__max_leaf_nodes=10, clf__min_samples_split=3, clf__n_estimators=10, clf__random_state=42;, score=1.000 total time=   0.0s\n",
      "[CV 3/5] END clf__max_depth=10, clf__max_leaf_nodes=10, clf__min_samples_split=3, clf__n_estimators=10, clf__random_state=42;, score=0.812 total time=   0.0s\n"
     ]
    },
    {
     "name": "stdout",
     "output_type": "stream",
     "text": [
      "[CV 4/5] END clf__max_depth=10, clf__max_leaf_nodes=10, clf__min_samples_split=3, clf__n_estimators=10, clf__random_state=42;, score=0.938 total time=   0.0s\n",
      "[CV 5/5] END clf__max_depth=10, clf__max_leaf_nodes=10, clf__min_samples_split=3, clf__n_estimators=10, clf__random_state=42;, score=0.938 total time=   0.0s\n",
      "[CV 1/5] END clf__max_depth=10, clf__max_leaf_nodes=10, clf__min_samples_split=3, clf__n_estimators=10, clf__random_state=42;, score=0.750 total time=   0.0s\n",
      "[CV 2/5] END clf__max_depth=10, clf__max_leaf_nodes=10, clf__min_samples_split=3, clf__n_estimators=10, clf__random_state=42;, score=1.000 total time=   0.0s\n",
      "[CV 3/5] END clf__max_depth=10, clf__max_leaf_nodes=10, clf__min_samples_split=3, clf__n_estimators=10, clf__random_state=42;, score=0.812 total time=   0.0s\n",
      "[CV 4/5] END clf__max_depth=10, clf__max_leaf_nodes=10, clf__min_samples_split=3, clf__n_estimators=10, clf__random_state=42;, score=0.938 total time=   0.0s\n",
      "[CV 5/5] END clf__max_depth=10, clf__max_leaf_nodes=10, clf__min_samples_split=3, clf__n_estimators=10, clf__random_state=42;, score=0.938 total time=   0.0s\n",
      "[CV 1/5] END clf__max_depth=10, clf__max_leaf_nodes=10, clf__min_samples_split=4, clf__n_estimators=10, clf__random_state=42;, score=0.750 total time=   0.0s\n",
      "[CV 2/5] END clf__max_depth=10, clf__max_leaf_nodes=10, clf__min_samples_split=4, clf__n_estimators=10, clf__random_state=42;, score=1.000 total time=   0.0s\n",
      "[CV 3/5] END clf__max_depth=10, clf__max_leaf_nodes=10, clf__min_samples_split=4, clf__n_estimators=10, clf__random_state=42;, score=0.812 total time=   0.0s\n",
      "[CV 4/5] END clf__max_depth=10, clf__max_leaf_nodes=10, clf__min_samples_split=4, clf__n_estimators=10, clf__random_state=42;, score=0.938 total time=   0.0s\n",
      "[CV 5/5] END clf__max_depth=10, clf__max_leaf_nodes=10, clf__min_samples_split=4, clf__n_estimators=10, clf__random_state=42;, score=0.938 total time=   0.0s\n",
      "[CV 1/5] END clf__max_depth=10, clf__max_leaf_nodes=10, clf__min_samples_split=4, clf__n_estimators=10, clf__random_state=42;, score=0.750 total time=   0.0s\n",
      "[CV 2/5] END clf__max_depth=10, clf__max_leaf_nodes=10, clf__min_samples_split=4, clf__n_estimators=10, clf__random_state=42;, score=1.000 total time=   0.0s\n",
      "[CV 3/5] END clf__max_depth=10, clf__max_leaf_nodes=10, clf__min_samples_split=4, clf__n_estimators=10, clf__random_state=42;, score=0.812 total time=   0.0s\n",
      "[CV 4/5] END clf__max_depth=10, clf__max_leaf_nodes=10, clf__min_samples_split=4, clf__n_estimators=10, clf__random_state=42;, score=0.938 total time=   0.0s\n",
      "[CV 5/5] END clf__max_depth=10, clf__max_leaf_nodes=10, clf__min_samples_split=4, clf__n_estimators=10, clf__random_state=42;, score=0.938 total time=   0.0s\n",
      "[CV 1/5] END clf__max_depth=10, clf__max_leaf_nodes=10, clf__min_samples_split=4, clf__n_estimators=10, clf__random_state=42;, score=0.750 total time=   0.0s\n",
      "[CV 2/5] END clf__max_depth=10, clf__max_leaf_nodes=10, clf__min_samples_split=4, clf__n_estimators=10, clf__random_state=42;, score=1.000 total time=   0.0s\n",
      "[CV 3/5] END clf__max_depth=10, clf__max_leaf_nodes=10, clf__min_samples_split=4, clf__n_estimators=10, clf__random_state=42;, score=0.812 total time=   0.0s\n",
      "[CV 4/5] END clf__max_depth=10, clf__max_leaf_nodes=10, clf__min_samples_split=4, clf__n_estimators=10, clf__random_state=42;, score=0.938 total time=   0.0s\n",
      "[CV 5/5] END clf__max_depth=10, clf__max_leaf_nodes=10, clf__min_samples_split=4, clf__n_estimators=10, clf__random_state=42;, score=0.938 total time=   0.0s\n",
      "[CV 1/5] END clf__max_depth=10, clf__max_leaf_nodes=10, clf__min_samples_split=2, clf__n_estimators=10, clf__random_state=42;, score=0.750 total time=   0.0s\n",
      "[CV 2/5] END clf__max_depth=10, clf__max_leaf_nodes=10, clf__min_samples_split=2, clf__n_estimators=10, clf__random_state=42;, score=1.000 total time=   0.0s\n",
      "[CV 3/5] END clf__max_depth=10, clf__max_leaf_nodes=10, clf__min_samples_split=2, clf__n_estimators=10, clf__random_state=42;, score=0.812 total time=   0.0s\n",
      "[CV 4/5] END clf__max_depth=10, clf__max_leaf_nodes=10, clf__min_samples_split=2, clf__n_estimators=10, clf__random_state=42;, score=0.938 total time=   0.0s\n",
      "[CV 5/5] END clf__max_depth=10, clf__max_leaf_nodes=10, clf__min_samples_split=2, clf__n_estimators=10, clf__random_state=42;, score=0.938 total time=   0.0s\n",
      "[CV 1/5] END clf__max_depth=10, clf__max_leaf_nodes=10, clf__min_samples_split=2, clf__n_estimators=10, clf__random_state=42;, score=0.750 total time=   0.0s\n",
      "[CV 2/5] END clf__max_depth=10, clf__max_leaf_nodes=10, clf__min_samples_split=2, clf__n_estimators=10, clf__random_state=42;, score=1.000 total time=   0.0s\n",
      "[CV 3/5] END clf__max_depth=10, clf__max_leaf_nodes=10, clf__min_samples_split=2, clf__n_estimators=10, clf__random_state=42;, score=0.812 total time=   0.0s\n",
      "[CV 4/5] END clf__max_depth=10, clf__max_leaf_nodes=10, clf__min_samples_split=2, clf__n_estimators=10, clf__random_state=42;, score=0.938 total time=   0.0s\n",
      "[CV 5/5] END clf__max_depth=10, clf__max_leaf_nodes=10, clf__min_samples_split=2, clf__n_estimators=10, clf__random_state=42;, score=0.938 total time=   0.0s\n",
      "[CV 1/5] END clf__max_depth=10, clf__max_leaf_nodes=10, clf__min_samples_split=2, clf__n_estimators=10, clf__random_state=42;, score=0.750 total time=   0.0s\n",
      "[CV 2/5] END clf__max_depth=10, clf__max_leaf_nodes=10, clf__min_samples_split=2, clf__n_estimators=10, clf__random_state=42;, score=1.000 total time=   0.0s\n",
      "[CV 3/5] END clf__max_depth=10, clf__max_leaf_nodes=10, clf__min_samples_split=2, clf__n_estimators=10, clf__random_state=42;, score=0.812 total time=   0.0s\n",
      "[CV 4/5] END clf__max_depth=10, clf__max_leaf_nodes=10, clf__min_samples_split=2, clf__n_estimators=10, clf__random_state=42;, score=0.938 total time=   0.0s\n",
      "[CV 5/5] END clf__max_depth=10, clf__max_leaf_nodes=10, clf__min_samples_split=2, clf__n_estimators=10, clf__random_state=42;, score=0.938 total time=   0.0s\n",
      "[CV 1/5] END clf__max_depth=10, clf__max_leaf_nodes=10, clf__min_samples_split=3, clf__n_estimators=10, clf__random_state=42;, score=0.750 total time=   0.0s\n",
      "[CV 2/5] END clf__max_depth=10, clf__max_leaf_nodes=10, clf__min_samples_split=3, clf__n_estimators=10, clf__random_state=42;, score=1.000 total time=   0.0s\n",
      "[CV 3/5] END clf__max_depth=10, clf__max_leaf_nodes=10, clf__min_samples_split=3, clf__n_estimators=10, clf__random_state=42;, score=0.812 total time=   0.0s\n",
      "[CV 4/5] END clf__max_depth=10, clf__max_leaf_nodes=10, clf__min_samples_split=3, clf__n_estimators=10, clf__random_state=42;, score=0.938 total time=   0.0s\n",
      "[CV 5/5] END clf__max_depth=10, clf__max_leaf_nodes=10, clf__min_samples_split=3, clf__n_estimators=10, clf__random_state=42;, score=0.938 total time=   0.0s\n",
      "[CV 1/5] END clf__max_depth=10, clf__max_leaf_nodes=10, clf__min_samples_split=3, clf__n_estimators=10, clf__random_state=42;, score=0.750 total time=   0.0s\n",
      "[CV 2/5] END clf__max_depth=10, clf__max_leaf_nodes=10, clf__min_samples_split=3, clf__n_estimators=10, clf__random_state=42;, score=1.000 total time=   0.0s\n",
      "[CV 3/5] END clf__max_depth=10, clf__max_leaf_nodes=10, clf__min_samples_split=3, clf__n_estimators=10, clf__random_state=42;, score=0.812 total time=   0.0s\n",
      "[CV 4/5] END clf__max_depth=10, clf__max_leaf_nodes=10, clf__min_samples_split=3, clf__n_estimators=10, clf__random_state=42;, score=0.938 total time=   0.0s\n",
      "[CV 5/5] END clf__max_depth=10, clf__max_leaf_nodes=10, clf__min_samples_split=3, clf__n_estimators=10, clf__random_state=42;, score=0.938 total time=   0.0s\n",
      "[CV 1/5] END clf__max_depth=10, clf__max_leaf_nodes=10, clf__min_samples_split=3, clf__n_estimators=10, clf__random_state=42;, score=0.750 total time=   0.0s\n",
      "[CV 2/5] END clf__max_depth=10, clf__max_leaf_nodes=10, clf__min_samples_split=3, clf__n_estimators=10, clf__random_state=42;, score=1.000 total time=   0.0s\n",
      "[CV 3/5] END clf__max_depth=10, clf__max_leaf_nodes=10, clf__min_samples_split=3, clf__n_estimators=10, clf__random_state=42;, score=0.812 total time=   0.0s\n",
      "[CV 4/5] END clf__max_depth=10, clf__max_leaf_nodes=10, clf__min_samples_split=3, clf__n_estimators=10, clf__random_state=42;, score=0.938 total time=   0.0s\n",
      "[CV 5/5] END clf__max_depth=10, clf__max_leaf_nodes=10, clf__min_samples_split=3, clf__n_estimators=10, clf__random_state=42;, score=0.938 total time=   0.0s\n",
      "[CV 1/5] END clf__max_depth=10, clf__max_leaf_nodes=10, clf__min_samples_split=4, clf__n_estimators=10, clf__random_state=42;, score=0.750 total time=   0.0s\n"
     ]
    },
    {
     "name": "stdout",
     "output_type": "stream",
     "text": [
      "[CV 2/5] END clf__max_depth=10, clf__max_leaf_nodes=10, clf__min_samples_split=4, clf__n_estimators=10, clf__random_state=42;, score=1.000 total time=   0.0s\n",
      "[CV 3/5] END clf__max_depth=10, clf__max_leaf_nodes=10, clf__min_samples_split=4, clf__n_estimators=10, clf__random_state=42;, score=0.812 total time=   0.0s\n",
      "[CV 4/5] END clf__max_depth=10, clf__max_leaf_nodes=10, clf__min_samples_split=4, clf__n_estimators=10, clf__random_state=42;, score=0.938 total time=   0.0s\n",
      "[CV 5/5] END clf__max_depth=10, clf__max_leaf_nodes=10, clf__min_samples_split=4, clf__n_estimators=10, clf__random_state=42;, score=0.938 total time=   0.0s\n",
      "[CV 1/5] END clf__max_depth=10, clf__max_leaf_nodes=10, clf__min_samples_split=4, clf__n_estimators=10, clf__random_state=42;, score=0.750 total time=   0.0s\n",
      "[CV 2/5] END clf__max_depth=10, clf__max_leaf_nodes=10, clf__min_samples_split=4, clf__n_estimators=10, clf__random_state=42;, score=1.000 total time=   0.0s\n",
      "[CV 3/5] END clf__max_depth=10, clf__max_leaf_nodes=10, clf__min_samples_split=4, clf__n_estimators=10, clf__random_state=42;, score=0.812 total time=   0.0s\n",
      "[CV 4/5] END clf__max_depth=10, clf__max_leaf_nodes=10, clf__min_samples_split=4, clf__n_estimators=10, clf__random_state=42;, score=0.938 total time=   0.0s\n",
      "[CV 5/5] END clf__max_depth=10, clf__max_leaf_nodes=10, clf__min_samples_split=4, clf__n_estimators=10, clf__random_state=42;, score=0.938 total time=   0.0s\n",
      "[CV 1/5] END clf__max_depth=10, clf__max_leaf_nodes=10, clf__min_samples_split=4, clf__n_estimators=10, clf__random_state=42;, score=0.750 total time=   0.0s\n",
      "[CV 2/5] END clf__max_depth=10, clf__max_leaf_nodes=10, clf__min_samples_split=4, clf__n_estimators=10, clf__random_state=42;, score=1.000 total time=   0.0s\n",
      "[CV 3/5] END clf__max_depth=10, clf__max_leaf_nodes=10, clf__min_samples_split=4, clf__n_estimators=10, clf__random_state=42;, score=0.812 total time=   0.0s\n",
      "[CV 4/5] END clf__max_depth=10, clf__max_leaf_nodes=10, clf__min_samples_split=4, clf__n_estimators=10, clf__random_state=42;, score=0.938 total time=   0.0s\n",
      "[CV 5/5] END clf__max_depth=10, clf__max_leaf_nodes=10, clf__min_samples_split=4, clf__n_estimators=10, clf__random_state=42;, score=0.938 total time=   0.0s\n",
      "[CV 1/5] END clf__max_depth=10, clf__max_leaf_nodes=10, clf__min_samples_split=2, clf__n_estimators=10, clf__random_state=42;, score=0.750 total time=   0.0s\n",
      "[CV 2/5] END clf__max_depth=10, clf__max_leaf_nodes=10, clf__min_samples_split=2, clf__n_estimators=10, clf__random_state=42;, score=1.000 total time=   0.0s\n",
      "[CV 3/5] END clf__max_depth=10, clf__max_leaf_nodes=10, clf__min_samples_split=2, clf__n_estimators=10, clf__random_state=42;, score=0.812 total time=   0.0s\n",
      "[CV 4/5] END clf__max_depth=10, clf__max_leaf_nodes=10, clf__min_samples_split=2, clf__n_estimators=10, clf__random_state=42;, score=0.938 total time=   0.0s\n",
      "[CV 5/5] END clf__max_depth=10, clf__max_leaf_nodes=10, clf__min_samples_split=2, clf__n_estimators=10, clf__random_state=42;, score=0.938 total time=   0.0s\n",
      "[CV 1/5] END clf__max_depth=10, clf__max_leaf_nodes=10, clf__min_samples_split=2, clf__n_estimators=10, clf__random_state=42;, score=0.750 total time=   0.0s\n",
      "[CV 2/5] END clf__max_depth=10, clf__max_leaf_nodes=10, clf__min_samples_split=2, clf__n_estimators=10, clf__random_state=42;, score=1.000 total time=   0.0s\n",
      "[CV 3/5] END clf__max_depth=10, clf__max_leaf_nodes=10, clf__min_samples_split=2, clf__n_estimators=10, clf__random_state=42;, score=0.812 total time=   0.0s\n",
      "[CV 4/5] END clf__max_depth=10, clf__max_leaf_nodes=10, clf__min_samples_split=2, clf__n_estimators=10, clf__random_state=42;, score=0.938 total time=   0.0s\n",
      "[CV 5/5] END clf__max_depth=10, clf__max_leaf_nodes=10, clf__min_samples_split=2, clf__n_estimators=10, clf__random_state=42;, score=0.938 total time=   0.0s\n",
      "[CV 1/5] END clf__max_depth=10, clf__max_leaf_nodes=10, clf__min_samples_split=2, clf__n_estimators=10, clf__random_state=42;, score=0.750 total time=   0.0s\n",
      "[CV 2/5] END clf__max_depth=10, clf__max_leaf_nodes=10, clf__min_samples_split=2, clf__n_estimators=10, clf__random_state=42;, score=1.000 total time=   0.0s\n",
      "[CV 3/5] END clf__max_depth=10, clf__max_leaf_nodes=10, clf__min_samples_split=2, clf__n_estimators=10, clf__random_state=42;, score=0.812 total time=   0.0s\n",
      "[CV 4/5] END clf__max_depth=10, clf__max_leaf_nodes=10, clf__min_samples_split=2, clf__n_estimators=10, clf__random_state=42;, score=0.938 total time=   0.0s\n",
      "[CV 5/5] END clf__max_depth=10, clf__max_leaf_nodes=10, clf__min_samples_split=2, clf__n_estimators=10, clf__random_state=42;, score=0.938 total time=   0.0s\n",
      "[CV 1/5] END clf__max_depth=10, clf__max_leaf_nodes=10, clf__min_samples_split=3, clf__n_estimators=10, clf__random_state=42;, score=0.750 total time=   0.0s\n",
      "[CV 2/5] END clf__max_depth=10, clf__max_leaf_nodes=10, clf__min_samples_split=3, clf__n_estimators=10, clf__random_state=42;, score=1.000 total time=   0.0s\n",
      "[CV 3/5] END clf__max_depth=10, clf__max_leaf_nodes=10, clf__min_samples_split=3, clf__n_estimators=10, clf__random_state=42;, score=0.812 total time=   0.0s\n",
      "[CV 4/5] END clf__max_depth=10, clf__max_leaf_nodes=10, clf__min_samples_split=3, clf__n_estimators=10, clf__random_state=42;, score=0.938 total time=   0.0s\n",
      "[CV 5/5] END clf__max_depth=10, clf__max_leaf_nodes=10, clf__min_samples_split=3, clf__n_estimators=10, clf__random_state=42;, score=0.938 total time=   0.0s\n",
      "[CV 1/5] END clf__max_depth=10, clf__max_leaf_nodes=10, clf__min_samples_split=3, clf__n_estimators=10, clf__random_state=42;, score=0.750 total time=   0.0s\n",
      "[CV 2/5] END clf__max_depth=10, clf__max_leaf_nodes=10, clf__min_samples_split=3, clf__n_estimators=10, clf__random_state=42;, score=1.000 total time=   0.0s\n",
      "[CV 3/5] END clf__max_depth=10, clf__max_leaf_nodes=10, clf__min_samples_split=3, clf__n_estimators=10, clf__random_state=42;, score=0.812 total time=   0.0s\n",
      "[CV 4/5] END clf__max_depth=10, clf__max_leaf_nodes=10, clf__min_samples_split=3, clf__n_estimators=10, clf__random_state=42;, score=0.938 total time=   0.0s\n",
      "[CV 5/5] END clf__max_depth=10, clf__max_leaf_nodes=10, clf__min_samples_split=3, clf__n_estimators=10, clf__random_state=42;, score=0.938 total time=   0.0s\n",
      "[CV 1/5] END clf__max_depth=10, clf__max_leaf_nodes=10, clf__min_samples_split=3, clf__n_estimators=10, clf__random_state=42;, score=0.750 total time=   0.0s\n",
      "[CV 2/5] END clf__max_depth=10, clf__max_leaf_nodes=10, clf__min_samples_split=3, clf__n_estimators=10, clf__random_state=42;, score=1.000 total time=   0.0s\n",
      "[CV 3/5] END clf__max_depth=10, clf__max_leaf_nodes=10, clf__min_samples_split=3, clf__n_estimators=10, clf__random_state=42;, score=0.812 total time=   0.0s\n",
      "[CV 4/5] END clf__max_depth=10, clf__max_leaf_nodes=10, clf__min_samples_split=3, clf__n_estimators=10, clf__random_state=42;, score=0.938 total time=   0.0s\n",
      "[CV 5/5] END clf__max_depth=10, clf__max_leaf_nodes=10, clf__min_samples_split=3, clf__n_estimators=10, clf__random_state=42;, score=0.938 total time=   0.0s\n",
      "[CV 1/5] END clf__max_depth=10, clf__max_leaf_nodes=10, clf__min_samples_split=4, clf__n_estimators=10, clf__random_state=42;, score=0.750 total time=   0.0s\n",
      "[CV 2/5] END clf__max_depth=10, clf__max_leaf_nodes=10, clf__min_samples_split=4, clf__n_estimators=10, clf__random_state=42;, score=1.000 total time=   0.0s\n",
      "[CV 3/5] END clf__max_depth=10, clf__max_leaf_nodes=10, clf__min_samples_split=4, clf__n_estimators=10, clf__random_state=42;, score=0.812 total time=   0.0s\n",
      "[CV 4/5] END clf__max_depth=10, clf__max_leaf_nodes=10, clf__min_samples_split=4, clf__n_estimators=10, clf__random_state=42;, score=0.938 total time=   0.0s\n",
      "[CV 5/5] END clf__max_depth=10, clf__max_leaf_nodes=10, clf__min_samples_split=4, clf__n_estimators=10, clf__random_state=42;, score=0.938 total time=   0.0s\n",
      "[CV 1/5] END clf__max_depth=10, clf__max_leaf_nodes=10, clf__min_samples_split=4, clf__n_estimators=10, clf__random_state=42;, score=0.750 total time=   0.0s\n",
      "[CV 2/5] END clf__max_depth=10, clf__max_leaf_nodes=10, clf__min_samples_split=4, clf__n_estimators=10, clf__random_state=42;, score=1.000 total time=   0.0s\n",
      "[CV 3/5] END clf__max_depth=10, clf__max_leaf_nodes=10, clf__min_samples_split=4, clf__n_estimators=10, clf__random_state=42;, score=0.812 total time=   0.0s\n",
      "[CV 4/5] END clf__max_depth=10, clf__max_leaf_nodes=10, clf__min_samples_split=4, clf__n_estimators=10, clf__random_state=42;, score=0.938 total time=   0.0s\n",
      "[CV 5/5] END clf__max_depth=10, clf__max_leaf_nodes=10, clf__min_samples_split=4, clf__n_estimators=10, clf__random_state=42;, score=0.938 total time=   0.0s\n"
     ]
    },
    {
     "name": "stdout",
     "output_type": "stream",
     "text": [
      "[CV 1/5] END clf__max_depth=10, clf__max_leaf_nodes=10, clf__min_samples_split=4, clf__n_estimators=10, clf__random_state=42;, score=0.750 total time=   0.0s\n",
      "[CV 2/5] END clf__max_depth=10, clf__max_leaf_nodes=10, clf__min_samples_split=4, clf__n_estimators=10, clf__random_state=42;, score=1.000 total time=   0.0s\n",
      "[CV 3/5] END clf__max_depth=10, clf__max_leaf_nodes=10, clf__min_samples_split=4, clf__n_estimators=10, clf__random_state=42;, score=0.812 total time=   0.0s\n",
      "[CV 4/5] END clf__max_depth=10, clf__max_leaf_nodes=10, clf__min_samples_split=4, clf__n_estimators=10, clf__random_state=42;, score=0.938 total time=   0.0s\n",
      "[CV 5/5] END clf__max_depth=10, clf__max_leaf_nodes=10, clf__min_samples_split=4, clf__n_estimators=10, clf__random_state=42;, score=0.938 total time=   0.0s\n",
      "[CV 1/5] END clf__max_depth=10, clf__max_leaf_nodes=10, clf__min_samples_split=2, clf__n_estimators=10, clf__random_state=42;, score=0.750 total time=   0.0s\n",
      "[CV 2/5] END clf__max_depth=10, clf__max_leaf_nodes=10, clf__min_samples_split=2, clf__n_estimators=10, clf__random_state=42;, score=1.000 total time=   0.0s\n",
      "[CV 3/5] END clf__max_depth=10, clf__max_leaf_nodes=10, clf__min_samples_split=2, clf__n_estimators=10, clf__random_state=42;, score=0.812 total time=   0.0s\n",
      "[CV 4/5] END clf__max_depth=10, clf__max_leaf_nodes=10, clf__min_samples_split=2, clf__n_estimators=10, clf__random_state=42;, score=0.938 total time=   0.0s\n",
      "[CV 5/5] END clf__max_depth=10, clf__max_leaf_nodes=10, clf__min_samples_split=2, clf__n_estimators=10, clf__random_state=42;, score=0.938 total time=   0.0s\n",
      "[CV 1/5] END clf__max_depth=10, clf__max_leaf_nodes=10, clf__min_samples_split=2, clf__n_estimators=10, clf__random_state=42;, score=0.750 total time=   0.0s\n",
      "[CV 2/5] END clf__max_depth=10, clf__max_leaf_nodes=10, clf__min_samples_split=2, clf__n_estimators=10, clf__random_state=42;, score=1.000 total time=   0.0s\n",
      "[CV 3/5] END clf__max_depth=10, clf__max_leaf_nodes=10, clf__min_samples_split=2, clf__n_estimators=10, clf__random_state=42;, score=0.812 total time=   0.0s\n",
      "[CV 4/5] END clf__max_depth=10, clf__max_leaf_nodes=10, clf__min_samples_split=2, clf__n_estimators=10, clf__random_state=42;, score=0.938 total time=   0.0s\n",
      "[CV 5/5] END clf__max_depth=10, clf__max_leaf_nodes=10, clf__min_samples_split=2, clf__n_estimators=10, clf__random_state=42;, score=0.938 total time=   0.0s\n",
      "[CV 1/5] END clf__max_depth=10, clf__max_leaf_nodes=10, clf__min_samples_split=2, clf__n_estimators=10, clf__random_state=42;, score=0.750 total time=   0.0s\n",
      "[CV 2/5] END clf__max_depth=10, clf__max_leaf_nodes=10, clf__min_samples_split=2, clf__n_estimators=10, clf__random_state=42;, score=1.000 total time=   0.0s\n",
      "[CV 3/5] END clf__max_depth=10, clf__max_leaf_nodes=10, clf__min_samples_split=2, clf__n_estimators=10, clf__random_state=42;, score=0.812 total time=   0.0s\n",
      "[CV 4/5] END clf__max_depth=10, clf__max_leaf_nodes=10, clf__min_samples_split=2, clf__n_estimators=10, clf__random_state=42;, score=0.938 total time=   0.0s\n",
      "[CV 5/5] END clf__max_depth=10, clf__max_leaf_nodes=10, clf__min_samples_split=2, clf__n_estimators=10, clf__random_state=42;, score=0.938 total time=   0.0s\n",
      "[CV 1/5] END clf__max_depth=10, clf__max_leaf_nodes=10, clf__min_samples_split=3, clf__n_estimators=10, clf__random_state=42;, score=0.750 total time=   0.0s\n",
      "[CV 2/5] END clf__max_depth=10, clf__max_leaf_nodes=10, clf__min_samples_split=3, clf__n_estimators=10, clf__random_state=42;, score=1.000 total time=   0.0s\n",
      "[CV 3/5] END clf__max_depth=10, clf__max_leaf_nodes=10, clf__min_samples_split=3, clf__n_estimators=10, clf__random_state=42;, score=0.812 total time=   0.0s\n",
      "[CV 4/5] END clf__max_depth=10, clf__max_leaf_nodes=10, clf__min_samples_split=3, clf__n_estimators=10, clf__random_state=42;, score=0.938 total time=   0.0s\n",
      "[CV 5/5] END clf__max_depth=10, clf__max_leaf_nodes=10, clf__min_samples_split=3, clf__n_estimators=10, clf__random_state=42;, score=0.938 total time=   0.0s\n",
      "[CV 1/5] END clf__max_depth=10, clf__max_leaf_nodes=10, clf__min_samples_split=3, clf__n_estimators=10, clf__random_state=42;, score=0.750 total time=   0.0s\n",
      "[CV 2/5] END clf__max_depth=10, clf__max_leaf_nodes=10, clf__min_samples_split=3, clf__n_estimators=10, clf__random_state=42;, score=1.000 total time=   0.0s\n",
      "[CV 3/5] END clf__max_depth=10, clf__max_leaf_nodes=10, clf__min_samples_split=3, clf__n_estimators=10, clf__random_state=42;, score=0.812 total time=   0.0s\n",
      "[CV 4/5] END clf__max_depth=10, clf__max_leaf_nodes=10, clf__min_samples_split=3, clf__n_estimators=10, clf__random_state=42;, score=0.938 total time=   0.0s\n",
      "[CV 5/5] END clf__max_depth=10, clf__max_leaf_nodes=10, clf__min_samples_split=3, clf__n_estimators=10, clf__random_state=42;, score=0.938 total time=   0.0s\n",
      "[CV 1/5] END clf__max_depth=10, clf__max_leaf_nodes=10, clf__min_samples_split=3, clf__n_estimators=10, clf__random_state=42;, score=0.750 total time=   0.0s\n",
      "[CV 2/5] END clf__max_depth=10, clf__max_leaf_nodes=10, clf__min_samples_split=3, clf__n_estimators=10, clf__random_state=42;, score=1.000 total time=   0.0s\n",
      "[CV 3/5] END clf__max_depth=10, clf__max_leaf_nodes=10, clf__min_samples_split=3, clf__n_estimators=10, clf__random_state=42;, score=0.812 total time=   0.0s\n",
      "[CV 4/5] END clf__max_depth=10, clf__max_leaf_nodes=10, clf__min_samples_split=3, clf__n_estimators=10, clf__random_state=42;, score=0.938 total time=   0.0s\n",
      "[CV 5/5] END clf__max_depth=10, clf__max_leaf_nodes=10, clf__min_samples_split=3, clf__n_estimators=10, clf__random_state=42;, score=0.938 total time=   0.0s\n",
      "[CV 1/5] END clf__max_depth=10, clf__max_leaf_nodes=10, clf__min_samples_split=4, clf__n_estimators=10, clf__random_state=42;, score=0.750 total time=   0.0s\n",
      "[CV 2/5] END clf__max_depth=10, clf__max_leaf_nodes=10, clf__min_samples_split=4, clf__n_estimators=10, clf__random_state=42;, score=1.000 total time=   0.0s\n",
      "[CV 3/5] END clf__max_depth=10, clf__max_leaf_nodes=10, clf__min_samples_split=4, clf__n_estimators=10, clf__random_state=42;, score=0.812 total time=   0.0s\n",
      "[CV 4/5] END clf__max_depth=10, clf__max_leaf_nodes=10, clf__min_samples_split=4, clf__n_estimators=10, clf__random_state=42;, score=0.938 total time=   0.0s\n",
      "[CV 5/5] END clf__max_depth=10, clf__max_leaf_nodes=10, clf__min_samples_split=4, clf__n_estimators=10, clf__random_state=42;, score=0.938 total time=   0.0s\n",
      "[CV 1/5] END clf__max_depth=10, clf__max_leaf_nodes=10, clf__min_samples_split=4, clf__n_estimators=10, clf__random_state=42;, score=0.750 total time=   0.0s\n",
      "[CV 2/5] END clf__max_depth=10, clf__max_leaf_nodes=10, clf__min_samples_split=4, clf__n_estimators=10, clf__random_state=42;, score=1.000 total time=   0.0s\n",
      "[CV 3/5] END clf__max_depth=10, clf__max_leaf_nodes=10, clf__min_samples_split=4, clf__n_estimators=10, clf__random_state=42;, score=0.812 total time=   0.0s\n",
      "[CV 4/5] END clf__max_depth=10, clf__max_leaf_nodes=10, clf__min_samples_split=4, clf__n_estimators=10, clf__random_state=42;, score=0.938 total time=   0.0s\n",
      "[CV 5/5] END clf__max_depth=10, clf__max_leaf_nodes=10, clf__min_samples_split=4, clf__n_estimators=10, clf__random_state=42;, score=0.938 total time=   0.0s\n",
      "[CV 1/5] END clf__max_depth=10, clf__max_leaf_nodes=10, clf__min_samples_split=4, clf__n_estimators=10, clf__random_state=42;, score=0.750 total time=   0.0s\n",
      "[CV 2/5] END clf__max_depth=10, clf__max_leaf_nodes=10, clf__min_samples_split=4, clf__n_estimators=10, clf__random_state=42;, score=1.000 total time=   0.0s\n",
      "[CV 3/5] END clf__max_depth=10, clf__max_leaf_nodes=10, clf__min_samples_split=4, clf__n_estimators=10, clf__random_state=42;, score=0.812 total time=   0.0s\n",
      "[CV 4/5] END clf__max_depth=10, clf__max_leaf_nodes=10, clf__min_samples_split=4, clf__n_estimators=10, clf__random_state=42;, score=0.938 total time=   0.0s\n",
      "[CV 5/5] END clf__max_depth=10, clf__max_leaf_nodes=10, clf__min_samples_split=4, clf__n_estimators=10, clf__random_state=42;, score=0.938 total time=   0.0s\n",
      "[CV 1/5] END clf__max_depth=10, clf__max_leaf_nodes=10, clf__min_samples_split=2, clf__n_estimators=10, clf__random_state=42;, score=0.750 total time=   0.0s\n",
      "[CV 2/5] END clf__max_depth=10, clf__max_leaf_nodes=10, clf__min_samples_split=2, clf__n_estimators=10, clf__random_state=42;, score=1.000 total time=   0.0s\n"
     ]
    },
    {
     "name": "stdout",
     "output_type": "stream",
     "text": [
      "[CV 3/5] END clf__max_depth=10, clf__max_leaf_nodes=10, clf__min_samples_split=2, clf__n_estimators=10, clf__random_state=42;, score=0.812 total time=   0.0s\n",
      "[CV 4/5] END clf__max_depth=10, clf__max_leaf_nodes=10, clf__min_samples_split=2, clf__n_estimators=10, clf__random_state=42;, score=0.938 total time=   0.0s\n",
      "[CV 5/5] END clf__max_depth=10, clf__max_leaf_nodes=10, clf__min_samples_split=2, clf__n_estimators=10, clf__random_state=42;, score=0.938 total time=   0.0s\n",
      "[CV 1/5] END clf__max_depth=10, clf__max_leaf_nodes=10, clf__min_samples_split=2, clf__n_estimators=10, clf__random_state=42;, score=0.750 total time=   0.0s\n",
      "[CV 2/5] END clf__max_depth=10, clf__max_leaf_nodes=10, clf__min_samples_split=2, clf__n_estimators=10, clf__random_state=42;, score=1.000 total time=   0.0s\n",
      "[CV 3/5] END clf__max_depth=10, clf__max_leaf_nodes=10, clf__min_samples_split=2, clf__n_estimators=10, clf__random_state=42;, score=0.812 total time=   0.0s\n",
      "[CV 4/5] END clf__max_depth=10, clf__max_leaf_nodes=10, clf__min_samples_split=2, clf__n_estimators=10, clf__random_state=42;, score=0.938 total time=   0.0s\n",
      "[CV 5/5] END clf__max_depth=10, clf__max_leaf_nodes=10, clf__min_samples_split=2, clf__n_estimators=10, clf__random_state=42;, score=0.938 total time=   0.0s\n",
      "[CV 1/5] END clf__max_depth=10, clf__max_leaf_nodes=10, clf__min_samples_split=2, clf__n_estimators=10, clf__random_state=42;, score=0.750 total time=   0.0s\n",
      "[CV 2/5] END clf__max_depth=10, clf__max_leaf_nodes=10, clf__min_samples_split=2, clf__n_estimators=10, clf__random_state=42;, score=1.000 total time=   0.0s\n",
      "[CV 3/5] END clf__max_depth=10, clf__max_leaf_nodes=10, clf__min_samples_split=2, clf__n_estimators=10, clf__random_state=42;, score=0.812 total time=   0.0s\n",
      "[CV 4/5] END clf__max_depth=10, clf__max_leaf_nodes=10, clf__min_samples_split=2, clf__n_estimators=10, clf__random_state=42;, score=0.938 total time=   0.0s\n",
      "[CV 5/5] END clf__max_depth=10, clf__max_leaf_nodes=10, clf__min_samples_split=2, clf__n_estimators=10, clf__random_state=42;, score=0.938 total time=   0.0s\n",
      "[CV 1/5] END clf__max_depth=10, clf__max_leaf_nodes=10, clf__min_samples_split=3, clf__n_estimators=10, clf__random_state=42;, score=0.750 total time=   0.0s\n",
      "[CV 2/5] END clf__max_depth=10, clf__max_leaf_nodes=10, clf__min_samples_split=3, clf__n_estimators=10, clf__random_state=42;, score=1.000 total time=   0.0s\n",
      "[CV 3/5] END clf__max_depth=10, clf__max_leaf_nodes=10, clf__min_samples_split=3, clf__n_estimators=10, clf__random_state=42;, score=0.812 total time=   0.0s\n",
      "[CV 4/5] END clf__max_depth=10, clf__max_leaf_nodes=10, clf__min_samples_split=3, clf__n_estimators=10, clf__random_state=42;, score=0.938 total time=   0.0s\n",
      "[CV 5/5] END clf__max_depth=10, clf__max_leaf_nodes=10, clf__min_samples_split=3, clf__n_estimators=10, clf__random_state=42;, score=0.938 total time=   0.0s\n",
      "[CV 1/5] END clf__max_depth=10, clf__max_leaf_nodes=10, clf__min_samples_split=3, clf__n_estimators=10, clf__random_state=42;, score=0.750 total time=   0.0s\n",
      "[CV 2/5] END clf__max_depth=10, clf__max_leaf_nodes=10, clf__min_samples_split=3, clf__n_estimators=10, clf__random_state=42;, score=1.000 total time=   0.0s\n",
      "[CV 3/5] END clf__max_depth=10, clf__max_leaf_nodes=10, clf__min_samples_split=3, clf__n_estimators=10, clf__random_state=42;, score=0.812 total time=   0.0s\n",
      "[CV 4/5] END clf__max_depth=10, clf__max_leaf_nodes=10, clf__min_samples_split=3, clf__n_estimators=10, clf__random_state=42;, score=0.938 total time=   0.0s\n",
      "[CV 5/5] END clf__max_depth=10, clf__max_leaf_nodes=10, clf__min_samples_split=3, clf__n_estimators=10, clf__random_state=42;, score=0.938 total time=   0.0s\n",
      "[CV 1/5] END clf__max_depth=10, clf__max_leaf_nodes=10, clf__min_samples_split=3, clf__n_estimators=10, clf__random_state=42;, score=0.750 total time=   0.0s\n",
      "[CV 2/5] END clf__max_depth=10, clf__max_leaf_nodes=10, clf__min_samples_split=3, clf__n_estimators=10, clf__random_state=42;, score=1.000 total time=   0.0s\n",
      "[CV 3/5] END clf__max_depth=10, clf__max_leaf_nodes=10, clf__min_samples_split=3, clf__n_estimators=10, clf__random_state=42;, score=0.812 total time=   0.0s\n",
      "[CV 4/5] END clf__max_depth=10, clf__max_leaf_nodes=10, clf__min_samples_split=3, clf__n_estimators=10, clf__random_state=42;, score=0.938 total time=   0.0s\n",
      "[CV 5/5] END clf__max_depth=10, clf__max_leaf_nodes=10, clf__min_samples_split=3, clf__n_estimators=10, clf__random_state=42;, score=0.938 total time=   0.0s\n",
      "[CV 1/5] END clf__max_depth=10, clf__max_leaf_nodes=10, clf__min_samples_split=4, clf__n_estimators=10, clf__random_state=42;, score=0.750 total time=   0.0s\n",
      "[CV 2/5] END clf__max_depth=10, clf__max_leaf_nodes=10, clf__min_samples_split=4, clf__n_estimators=10, clf__random_state=42;, score=1.000 total time=   0.0s\n",
      "[CV 3/5] END clf__max_depth=10, clf__max_leaf_nodes=10, clf__min_samples_split=4, clf__n_estimators=10, clf__random_state=42;, score=0.812 total time=   0.0s\n",
      "[CV 4/5] END clf__max_depth=10, clf__max_leaf_nodes=10, clf__min_samples_split=4, clf__n_estimators=10, clf__random_state=42;, score=0.938 total time=   0.0s\n",
      "[CV 5/5] END clf__max_depth=10, clf__max_leaf_nodes=10, clf__min_samples_split=4, clf__n_estimators=10, clf__random_state=42;, score=0.938 total time=   0.0s\n",
      "[CV 1/5] END clf__max_depth=10, clf__max_leaf_nodes=10, clf__min_samples_split=4, clf__n_estimators=10, clf__random_state=42;, score=0.750 total time=   0.0s\n",
      "[CV 2/5] END clf__max_depth=10, clf__max_leaf_nodes=10, clf__min_samples_split=4, clf__n_estimators=10, clf__random_state=42;, score=1.000 total time=   0.0s\n",
      "[CV 3/5] END clf__max_depth=10, clf__max_leaf_nodes=10, clf__min_samples_split=4, clf__n_estimators=10, clf__random_state=42;, score=0.812 total time=   0.0s\n",
      "[CV 4/5] END clf__max_depth=10, clf__max_leaf_nodes=10, clf__min_samples_split=4, clf__n_estimators=10, clf__random_state=42;, score=0.938 total time=   0.0s\n",
      "[CV 5/5] END clf__max_depth=10, clf__max_leaf_nodes=10, clf__min_samples_split=4, clf__n_estimators=10, clf__random_state=42;, score=0.938 total time=   0.0s\n",
      "[CV 1/5] END clf__max_depth=10, clf__max_leaf_nodes=10, clf__min_samples_split=4, clf__n_estimators=10, clf__random_state=42;, score=0.750 total time=   0.0s\n",
      "[CV 2/5] END clf__max_depth=10, clf__max_leaf_nodes=10, clf__min_samples_split=4, clf__n_estimators=10, clf__random_state=42;, score=1.000 total time=   0.0s\n",
      "[CV 3/5] END clf__max_depth=10, clf__max_leaf_nodes=10, clf__min_samples_split=4, clf__n_estimators=10, clf__random_state=42;, score=0.812 total time=   0.0s\n",
      "[CV 4/5] END clf__max_depth=10, clf__max_leaf_nodes=10, clf__min_samples_split=4, clf__n_estimators=10, clf__random_state=42;, score=0.938 total time=   0.0s\n",
      "[CV 5/5] END clf__max_depth=10, clf__max_leaf_nodes=10, clf__min_samples_split=4, clf__n_estimators=10, clf__random_state=42;, score=0.938 total time=   0.0s\n",
      "[CV 1/5] END clf__max_depth=10, clf__max_leaf_nodes=10, clf__min_samples_split=2, clf__n_estimators=10, clf__random_state=42;, score=0.750 total time=   0.0s\n",
      "[CV 2/5] END clf__max_depth=10, clf__max_leaf_nodes=10, clf__min_samples_split=2, clf__n_estimators=10, clf__random_state=42;, score=1.000 total time=   0.0s\n",
      "[CV 3/5] END clf__max_depth=10, clf__max_leaf_nodes=10, clf__min_samples_split=2, clf__n_estimators=10, clf__random_state=42;, score=0.812 total time=   0.0s\n",
      "[CV 4/5] END clf__max_depth=10, clf__max_leaf_nodes=10, clf__min_samples_split=2, clf__n_estimators=10, clf__random_state=42;, score=0.938 total time=   0.0s\n",
      "[CV 5/5] END clf__max_depth=10, clf__max_leaf_nodes=10, clf__min_samples_split=2, clf__n_estimators=10, clf__random_state=42;, score=0.938 total time=   0.0s\n",
      "[CV 1/5] END clf__max_depth=10, clf__max_leaf_nodes=10, clf__min_samples_split=2, clf__n_estimators=10, clf__random_state=42;, score=0.750 total time=   0.0s\n",
      "[CV 2/5] END clf__max_depth=10, clf__max_leaf_nodes=10, clf__min_samples_split=2, clf__n_estimators=10, clf__random_state=42;, score=1.000 total time=   0.0s\n",
      "[CV 3/5] END clf__max_depth=10, clf__max_leaf_nodes=10, clf__min_samples_split=2, clf__n_estimators=10, clf__random_state=42;, score=0.812 total time=   0.0s\n",
      "[CV 4/5] END clf__max_depth=10, clf__max_leaf_nodes=10, clf__min_samples_split=2, clf__n_estimators=10, clf__random_state=42;, score=0.938 total time=   0.0s\n"
     ]
    },
    {
     "name": "stdout",
     "output_type": "stream",
     "text": [
      "[CV 5/5] END clf__max_depth=10, clf__max_leaf_nodes=10, clf__min_samples_split=2, clf__n_estimators=10, clf__random_state=42;, score=0.938 total time=   0.0s\n",
      "[CV 1/5] END clf__max_depth=10, clf__max_leaf_nodes=10, clf__min_samples_split=2, clf__n_estimators=10, clf__random_state=42;, score=0.750 total time=   0.0s\n",
      "[CV 2/5] END clf__max_depth=10, clf__max_leaf_nodes=10, clf__min_samples_split=2, clf__n_estimators=10, clf__random_state=42;, score=1.000 total time=   0.0s\n",
      "[CV 3/5] END clf__max_depth=10, clf__max_leaf_nodes=10, clf__min_samples_split=2, clf__n_estimators=10, clf__random_state=42;, score=0.812 total time=   0.0s\n",
      "[CV 4/5] END clf__max_depth=10, clf__max_leaf_nodes=10, clf__min_samples_split=2, clf__n_estimators=10, clf__random_state=42;, score=0.938 total time=   0.0s\n",
      "[CV 5/5] END clf__max_depth=10, clf__max_leaf_nodes=10, clf__min_samples_split=2, clf__n_estimators=10, clf__random_state=42;, score=0.938 total time=   0.0s\n",
      "[CV 1/5] END clf__max_depth=10, clf__max_leaf_nodes=10, clf__min_samples_split=3, clf__n_estimators=10, clf__random_state=42;, score=0.750 total time=   0.0s\n",
      "[CV 2/5] END clf__max_depth=10, clf__max_leaf_nodes=10, clf__min_samples_split=3, clf__n_estimators=10, clf__random_state=42;, score=1.000 total time=   0.0s\n",
      "[CV 3/5] END clf__max_depth=10, clf__max_leaf_nodes=10, clf__min_samples_split=3, clf__n_estimators=10, clf__random_state=42;, score=0.812 total time=   0.0s\n",
      "[CV 4/5] END clf__max_depth=10, clf__max_leaf_nodes=10, clf__min_samples_split=3, clf__n_estimators=10, clf__random_state=42;, score=0.938 total time=   0.0s\n",
      "[CV 5/5] END clf__max_depth=10, clf__max_leaf_nodes=10, clf__min_samples_split=3, clf__n_estimators=10, clf__random_state=42;, score=0.938 total time=   0.0s\n",
      "[CV 1/5] END clf__max_depth=10, clf__max_leaf_nodes=10, clf__min_samples_split=3, clf__n_estimators=10, clf__random_state=42;, score=0.750 total time=   0.0s\n",
      "[CV 2/5] END clf__max_depth=10, clf__max_leaf_nodes=10, clf__min_samples_split=3, clf__n_estimators=10, clf__random_state=42;, score=1.000 total time=   0.0s\n",
      "[CV 3/5] END clf__max_depth=10, clf__max_leaf_nodes=10, clf__min_samples_split=3, clf__n_estimators=10, clf__random_state=42;, score=0.812 total time=   0.0s\n",
      "[CV 4/5] END clf__max_depth=10, clf__max_leaf_nodes=10, clf__min_samples_split=3, clf__n_estimators=10, clf__random_state=42;, score=0.938 total time=   0.0s\n",
      "[CV 5/5] END clf__max_depth=10, clf__max_leaf_nodes=10, clf__min_samples_split=3, clf__n_estimators=10, clf__random_state=42;, score=0.938 total time=   0.0s\n",
      "[CV 1/5] END clf__max_depth=10, clf__max_leaf_nodes=10, clf__min_samples_split=3, clf__n_estimators=10, clf__random_state=42;, score=0.750 total time=   0.0s\n",
      "[CV 2/5] END clf__max_depth=10, clf__max_leaf_nodes=10, clf__min_samples_split=3, clf__n_estimators=10, clf__random_state=42;, score=1.000 total time=   0.0s\n",
      "[CV 3/5] END clf__max_depth=10, clf__max_leaf_nodes=10, clf__min_samples_split=3, clf__n_estimators=10, clf__random_state=42;, score=0.812 total time=   0.0s\n",
      "[CV 4/5] END clf__max_depth=10, clf__max_leaf_nodes=10, clf__min_samples_split=3, clf__n_estimators=10, clf__random_state=42;, score=0.938 total time=   0.0s\n",
      "[CV 5/5] END clf__max_depth=10, clf__max_leaf_nodes=10, clf__min_samples_split=3, clf__n_estimators=10, clf__random_state=42;, score=0.938 total time=   0.0s\n",
      "[CV 1/5] END clf__max_depth=10, clf__max_leaf_nodes=10, clf__min_samples_split=4, clf__n_estimators=10, clf__random_state=42;, score=0.750 total time=   0.0s\n",
      "[CV 2/5] END clf__max_depth=10, clf__max_leaf_nodes=10, clf__min_samples_split=4, clf__n_estimators=10, clf__random_state=42;, score=1.000 total time=   0.0s\n",
      "[CV 3/5] END clf__max_depth=10, clf__max_leaf_nodes=10, clf__min_samples_split=4, clf__n_estimators=10, clf__random_state=42;, score=0.812 total time=   0.0s\n",
      "[CV 4/5] END clf__max_depth=10, clf__max_leaf_nodes=10, clf__min_samples_split=4, clf__n_estimators=10, clf__random_state=42;, score=0.938 total time=   0.0s\n",
      "[CV 5/5] END clf__max_depth=10, clf__max_leaf_nodes=10, clf__min_samples_split=4, clf__n_estimators=10, clf__random_state=42;, score=0.938 total time=   0.0s\n",
      "[CV 1/5] END clf__max_depth=10, clf__max_leaf_nodes=10, clf__min_samples_split=4, clf__n_estimators=10, clf__random_state=42;, score=0.750 total time=   0.0s\n",
      "[CV 2/5] END clf__max_depth=10, clf__max_leaf_nodes=10, clf__min_samples_split=4, clf__n_estimators=10, clf__random_state=42;, score=1.000 total time=   0.0s\n",
      "[CV 3/5] END clf__max_depth=10, clf__max_leaf_nodes=10, clf__min_samples_split=4, clf__n_estimators=10, clf__random_state=42;, score=0.812 total time=   0.0s\n",
      "[CV 4/5] END clf__max_depth=10, clf__max_leaf_nodes=10, clf__min_samples_split=4, clf__n_estimators=10, clf__random_state=42;, score=0.938 total time=   0.0s\n",
      "[CV 5/5] END clf__max_depth=10, clf__max_leaf_nodes=10, clf__min_samples_split=4, clf__n_estimators=10, clf__random_state=42;, score=0.938 total time=   0.0s\n",
      "[CV 1/5] END clf__max_depth=10, clf__max_leaf_nodes=10, clf__min_samples_split=4, clf__n_estimators=10, clf__random_state=42;, score=0.750 total time=   0.0s\n",
      "[CV 2/5] END clf__max_depth=10, clf__max_leaf_nodes=10, clf__min_samples_split=4, clf__n_estimators=10, clf__random_state=42;, score=1.000 total time=   0.0s\n",
      "[CV 3/5] END clf__max_depth=10, clf__max_leaf_nodes=10, clf__min_samples_split=4, clf__n_estimators=10, clf__random_state=42;, score=0.812 total time=   0.0s\n",
      "[CV 4/5] END clf__max_depth=10, clf__max_leaf_nodes=10, clf__min_samples_split=4, clf__n_estimators=10, clf__random_state=42;, score=0.938 total time=   0.0s\n",
      "[CV 5/5] END clf__max_depth=10, clf__max_leaf_nodes=10, clf__min_samples_split=4, clf__n_estimators=10, clf__random_state=42;, score=0.938 total time=   0.0s\n",
      "[CV 1/5] END clf__max_depth=10, clf__max_leaf_nodes=10, clf__min_samples_split=2, clf__n_estimators=10, clf__random_state=42;, score=0.750 total time=   0.0s\n",
      "[CV 2/5] END clf__max_depth=10, clf__max_leaf_nodes=10, clf__min_samples_split=2, clf__n_estimators=10, clf__random_state=42;, score=1.000 total time=   0.0s\n",
      "[CV 3/5] END clf__max_depth=10, clf__max_leaf_nodes=10, clf__min_samples_split=2, clf__n_estimators=10, clf__random_state=42;, score=0.812 total time=   0.0s\n",
      "[CV 4/5] END clf__max_depth=10, clf__max_leaf_nodes=10, clf__min_samples_split=2, clf__n_estimators=10, clf__random_state=42;, score=0.938 total time=   0.0s\n",
      "[CV 5/5] END clf__max_depth=10, clf__max_leaf_nodes=10, clf__min_samples_split=2, clf__n_estimators=10, clf__random_state=42;, score=0.938 total time=   0.0s\n",
      "[CV 1/5] END clf__max_depth=10, clf__max_leaf_nodes=10, clf__min_samples_split=2, clf__n_estimators=10, clf__random_state=42;, score=0.750 total time=   0.0s\n",
      "[CV 2/5] END clf__max_depth=10, clf__max_leaf_nodes=10, clf__min_samples_split=2, clf__n_estimators=10, clf__random_state=42;, score=1.000 total time=   0.0s\n",
      "[CV 3/5] END clf__max_depth=10, clf__max_leaf_nodes=10, clf__min_samples_split=2, clf__n_estimators=10, clf__random_state=42;, score=0.812 total time=   0.0s\n",
      "[CV 4/5] END clf__max_depth=10, clf__max_leaf_nodes=10, clf__min_samples_split=2, clf__n_estimators=10, clf__random_state=42;, score=0.938 total time=   0.0s\n",
      "[CV 5/5] END clf__max_depth=10, clf__max_leaf_nodes=10, clf__min_samples_split=2, clf__n_estimators=10, clf__random_state=42;, score=0.938 total time=   0.0s\n",
      "[CV 1/5] END clf__max_depth=10, clf__max_leaf_nodes=10, clf__min_samples_split=2, clf__n_estimators=10, clf__random_state=42;, score=0.750 total time=   0.0s\n",
      "[CV 2/5] END clf__max_depth=10, clf__max_leaf_nodes=10, clf__min_samples_split=2, clf__n_estimators=10, clf__random_state=42;, score=1.000 total time=   0.0s\n",
      "[CV 3/5] END clf__max_depth=10, clf__max_leaf_nodes=10, clf__min_samples_split=2, clf__n_estimators=10, clf__random_state=42;, score=0.812 total time=   0.0s\n",
      "[CV 4/5] END clf__max_depth=10, clf__max_leaf_nodes=10, clf__min_samples_split=2, clf__n_estimators=10, clf__random_state=42;, score=0.938 total time=   0.0s\n",
      "[CV 5/5] END clf__max_depth=10, clf__max_leaf_nodes=10, clf__min_samples_split=2, clf__n_estimators=10, clf__random_state=42;, score=0.938 total time=   0.0s\n",
      "[CV 1/5] END clf__max_depth=10, clf__max_leaf_nodes=10, clf__min_samples_split=3, clf__n_estimators=10, clf__random_state=42;, score=0.750 total time=   0.0s\n",
      "[CV 2/5] END clf__max_depth=10, clf__max_leaf_nodes=10, clf__min_samples_split=3, clf__n_estimators=10, clf__random_state=42;, score=1.000 total time=   0.0s\n",
      "[CV 3/5] END clf__max_depth=10, clf__max_leaf_nodes=10, clf__min_samples_split=3, clf__n_estimators=10, clf__random_state=42;, score=0.812 total time=   0.0s\n"
     ]
    },
    {
     "name": "stdout",
     "output_type": "stream",
     "text": [
      "[CV 4/5] END clf__max_depth=10, clf__max_leaf_nodes=10, clf__min_samples_split=3, clf__n_estimators=10, clf__random_state=42;, score=0.938 total time=   0.0s\n",
      "[CV 5/5] END clf__max_depth=10, clf__max_leaf_nodes=10, clf__min_samples_split=3, clf__n_estimators=10, clf__random_state=42;, score=0.938 total time=   0.0s\n",
      "[CV 1/5] END clf__max_depth=10, clf__max_leaf_nodes=10, clf__min_samples_split=3, clf__n_estimators=10, clf__random_state=42;, score=0.750 total time=   0.0s\n",
      "[CV 2/5] END clf__max_depth=10, clf__max_leaf_nodes=10, clf__min_samples_split=3, clf__n_estimators=10, clf__random_state=42;, score=1.000 total time=   0.0s\n",
      "[CV 3/5] END clf__max_depth=10, clf__max_leaf_nodes=10, clf__min_samples_split=3, clf__n_estimators=10, clf__random_state=42;, score=0.812 total time=   0.0s\n",
      "[CV 4/5] END clf__max_depth=10, clf__max_leaf_nodes=10, clf__min_samples_split=3, clf__n_estimators=10, clf__random_state=42;, score=0.938 total time=   0.0s\n",
      "[CV 5/5] END clf__max_depth=10, clf__max_leaf_nodes=10, clf__min_samples_split=3, clf__n_estimators=10, clf__random_state=42;, score=0.938 total time=   0.0s\n",
      "[CV 1/5] END clf__max_depth=10, clf__max_leaf_nodes=10, clf__min_samples_split=3, clf__n_estimators=10, clf__random_state=42;, score=0.750 total time=   0.0s\n",
      "[CV 2/5] END clf__max_depth=10, clf__max_leaf_nodes=10, clf__min_samples_split=3, clf__n_estimators=10, clf__random_state=42;, score=1.000 total time=   0.0s\n",
      "[CV 3/5] END clf__max_depth=10, clf__max_leaf_nodes=10, clf__min_samples_split=3, clf__n_estimators=10, clf__random_state=42;, score=0.812 total time=   0.0s\n",
      "[CV 4/5] END clf__max_depth=10, clf__max_leaf_nodes=10, clf__min_samples_split=3, clf__n_estimators=10, clf__random_state=42;, score=0.938 total time=   0.0s\n",
      "[CV 5/5] END clf__max_depth=10, clf__max_leaf_nodes=10, clf__min_samples_split=3, clf__n_estimators=10, clf__random_state=42;, score=0.938 total time=   0.0s\n",
      "[CV 1/5] END clf__max_depth=10, clf__max_leaf_nodes=10, clf__min_samples_split=4, clf__n_estimators=10, clf__random_state=42;, score=0.750 total time=   0.0s\n",
      "[CV 2/5] END clf__max_depth=10, clf__max_leaf_nodes=10, clf__min_samples_split=4, clf__n_estimators=10, clf__random_state=42;, score=1.000 total time=   0.0s\n",
      "[CV 3/5] END clf__max_depth=10, clf__max_leaf_nodes=10, clf__min_samples_split=4, clf__n_estimators=10, clf__random_state=42;, score=0.812 total time=   0.0s\n",
      "[CV 4/5] END clf__max_depth=10, clf__max_leaf_nodes=10, clf__min_samples_split=4, clf__n_estimators=10, clf__random_state=42;, score=0.938 total time=   0.0s\n",
      "[CV 5/5] END clf__max_depth=10, clf__max_leaf_nodes=10, clf__min_samples_split=4, clf__n_estimators=10, clf__random_state=42;, score=0.938 total time=   0.0s\n",
      "[CV 1/5] END clf__max_depth=10, clf__max_leaf_nodes=10, clf__min_samples_split=4, clf__n_estimators=10, clf__random_state=42;, score=0.750 total time=   0.0s\n",
      "[CV 2/5] END clf__max_depth=10, clf__max_leaf_nodes=10, clf__min_samples_split=4, clf__n_estimators=10, clf__random_state=42;, score=1.000 total time=   0.0s\n",
      "[CV 3/5] END clf__max_depth=10, clf__max_leaf_nodes=10, clf__min_samples_split=4, clf__n_estimators=10, clf__random_state=42;, score=0.812 total time=   0.0s\n",
      "[CV 4/5] END clf__max_depth=10, clf__max_leaf_nodes=10, clf__min_samples_split=4, clf__n_estimators=10, clf__random_state=42;, score=0.938 total time=   0.0s\n",
      "[CV 5/5] END clf__max_depth=10, clf__max_leaf_nodes=10, clf__min_samples_split=4, clf__n_estimators=10, clf__random_state=42;, score=0.938 total time=   0.0s\n",
      "[CV 1/5] END clf__max_depth=10, clf__max_leaf_nodes=10, clf__min_samples_split=4, clf__n_estimators=10, clf__random_state=42;, score=0.750 total time=   0.0s\n",
      "[CV 2/5] END clf__max_depth=10, clf__max_leaf_nodes=10, clf__min_samples_split=4, clf__n_estimators=10, clf__random_state=42;, score=1.000 total time=   0.0s\n",
      "[CV 3/5] END clf__max_depth=10, clf__max_leaf_nodes=10, clf__min_samples_split=4, clf__n_estimators=10, clf__random_state=42;, score=0.812 total time=   0.0s\n",
      "[CV 4/5] END clf__max_depth=10, clf__max_leaf_nodes=10, clf__min_samples_split=4, clf__n_estimators=10, clf__random_state=42;, score=0.938 total time=   0.0s\n",
      "[CV 5/5] END clf__max_depth=10, clf__max_leaf_nodes=10, clf__min_samples_split=4, clf__n_estimators=10, clf__random_state=42;, score=0.938 total time=   0.0s\n",
      "Training took 0.14 minutes\n",
      "Evaluating model...\n",
      "100.0%\n"
     ]
    }
   ],
   "source": [
    "print('Training model...')\n",
    "start = time.time()\n",
    "model.fit(X_train, Y_train)\n",
    "print('Training took {} minutes'.format(round((time.time() - start)/60, 2)))\n",
    "print('Evaluating model...')\n",
    "evaluate_model(model, X_test, Y_test)"
   ]
  },
  {
   "cell_type": "markdown",
   "metadata": {},
   "source": [
    "We'll check the other solution that actually did better interms of the training time."
   ]
  },
  {
   "cell_type": "code",
   "execution_count": 15,
   "metadata": {},
   "outputs": [
    {
     "name": "stdout",
     "output_type": "stream",
     "text": [
      "dict_keys(['bootstrap', 'ccp_alpha', 'class_weight', 'criterion', 'max_depth', 'max_features', 'max_leaf_nodes', 'max_samples', 'min_impurity_decrease', 'min_samples_leaf', 'min_samples_split', 'min_weight_fraction_leaf', 'n_estimators', 'n_jobs', 'oob_score', 'random_state', 'verbose', 'warm_start'])\n"
     ]
    }
   ],
   "source": [
    "model = build_model()"
   ]
  },
  {
   "cell_type": "markdown",
   "metadata": {},
   "source": [
    "We'll train the model to see how well it does"
   ]
  },
  {
   "cell_type": "code",
   "execution_count": 16,
   "metadata": {},
   "outputs": [
    {
     "name": "stdout",
     "output_type": "stream",
     "text": [
      "Training model...\n",
      "Fitting 5 folds for each of 81 candidates, totalling 405 fits\n",
      "[CV 1/5] END clf__max_depth=1, clf__max_leaf_nodes=2, clf__min_samples_split=2, clf__n_estimators=1, clf__random_state=42;, score=0.750 total time=   0.0s\n",
      "[CV 2/5] END clf__max_depth=1, clf__max_leaf_nodes=2, clf__min_samples_split=2, clf__n_estimators=1, clf__random_state=42;, score=0.812 total time=   0.0s\n",
      "[CV 3/5] END clf__max_depth=1, clf__max_leaf_nodes=2, clf__min_samples_split=2, clf__n_estimators=1, clf__random_state=42;, score=0.875 total time=   0.0s\n",
      "[CV 4/5] END clf__max_depth=1, clf__max_leaf_nodes=2, clf__min_samples_split=2, clf__n_estimators=1, clf__random_state=42;, score=0.500 total time=   0.0s\n",
      "[CV 5/5] END clf__max_depth=1, clf__max_leaf_nodes=2, clf__min_samples_split=2, clf__n_estimators=1, clf__random_state=42;, score=0.750 total time=   0.0s\n",
      "[CV 1/5] END clf__max_depth=1, clf__max_leaf_nodes=2, clf__min_samples_split=2, clf__n_estimators=5, clf__random_state=42;, score=0.875 total time=   0.0s\n",
      "[CV 2/5] END clf__max_depth=1, clf__max_leaf_nodes=2, clf__min_samples_split=2, clf__n_estimators=5, clf__random_state=42;, score=1.000 total time=   0.0s\n",
      "[CV 3/5] END clf__max_depth=1, clf__max_leaf_nodes=2, clf__min_samples_split=2, clf__n_estimators=5, clf__random_state=42;, score=0.938 total time=   0.0s\n",
      "[CV 4/5] END clf__max_depth=1, clf__max_leaf_nodes=2, clf__min_samples_split=2, clf__n_estimators=5, clf__random_state=42;, score=0.938 total time=   0.0s\n",
      "[CV 5/5] END clf__max_depth=1, clf__max_leaf_nodes=2, clf__min_samples_split=2, clf__n_estimators=5, clf__random_state=42;, score=0.938 total time=   0.0s\n",
      "[CV 1/5] END clf__max_depth=1, clf__max_leaf_nodes=2, clf__min_samples_split=2, clf__n_estimators=10, clf__random_state=42;, score=0.875 total time=   0.0s\n",
      "[CV 2/5] END clf__max_depth=1, clf__max_leaf_nodes=2, clf__min_samples_split=2, clf__n_estimators=10, clf__random_state=42;, score=1.000 total time=   0.0s\n",
      "[CV 3/5] END clf__max_depth=1, clf__max_leaf_nodes=2, clf__min_samples_split=2, clf__n_estimators=10, clf__random_state=42;, score=0.938 total time=   0.0s\n",
      "[CV 4/5] END clf__max_depth=1, clf__max_leaf_nodes=2, clf__min_samples_split=2, clf__n_estimators=10, clf__random_state=42;, score=0.938 total time=   0.0s\n",
      "[CV 5/5] END clf__max_depth=1, clf__max_leaf_nodes=2, clf__min_samples_split=2, clf__n_estimators=10, clf__random_state=42;, score=0.938 total time=   0.0s\n",
      "[CV 1/5] END clf__max_depth=1, clf__max_leaf_nodes=2, clf__min_samples_split=3, clf__n_estimators=1, clf__random_state=42;, score=0.750 total time=   0.0s\n",
      "[CV 2/5] END clf__max_depth=1, clf__max_leaf_nodes=2, clf__min_samples_split=3, clf__n_estimators=1, clf__random_state=42;, score=0.812 total time=   0.0s\n",
      "[CV 3/5] END clf__max_depth=1, clf__max_leaf_nodes=2, clf__min_samples_split=3, clf__n_estimators=1, clf__random_state=42;, score=0.875 total time=   0.0s\n",
      "[CV 4/5] END clf__max_depth=1, clf__max_leaf_nodes=2, clf__min_samples_split=3, clf__n_estimators=1, clf__random_state=42;, score=0.500 total time=   0.0s\n",
      "[CV 5/5] END clf__max_depth=1, clf__max_leaf_nodes=2, clf__min_samples_split=3, clf__n_estimators=1, clf__random_state=42;, score=0.750 total time=   0.0s\n",
      "[CV 1/5] END clf__max_depth=1, clf__max_leaf_nodes=2, clf__min_samples_split=3, clf__n_estimators=5, clf__random_state=42;, score=0.875 total time=   0.0s\n",
      "[CV 2/5] END clf__max_depth=1, clf__max_leaf_nodes=2, clf__min_samples_split=3, clf__n_estimators=5, clf__random_state=42;, score=1.000 total time=   0.0s\n",
      "[CV 3/5] END clf__max_depth=1, clf__max_leaf_nodes=2, clf__min_samples_split=3, clf__n_estimators=5, clf__random_state=42;, score=0.938 total time=   0.0s\n",
      "[CV 4/5] END clf__max_depth=1, clf__max_leaf_nodes=2, clf__min_samples_split=3, clf__n_estimators=5, clf__random_state=42;, score=0.938 total time=   0.0s\n",
      "[CV 5/5] END clf__max_depth=1, clf__max_leaf_nodes=2, clf__min_samples_split=3, clf__n_estimators=5, clf__random_state=42;, score=0.938 total time=   0.0s\n",
      "[CV 1/5] END clf__max_depth=1, clf__max_leaf_nodes=2, clf__min_samples_split=3, clf__n_estimators=10, clf__random_state=42;, score=0.875 total time=   0.0s\n",
      "[CV 2/5] END clf__max_depth=1, clf__max_leaf_nodes=2, clf__min_samples_split=3, clf__n_estimators=10, clf__random_state=42;, score=1.000 total time=   0.0s\n",
      "[CV 3/5] END clf__max_depth=1, clf__max_leaf_nodes=2, clf__min_samples_split=3, clf__n_estimators=10, clf__random_state=42;, score=0.938 total time=   0.0s\n",
      "[CV 4/5] END clf__max_depth=1, clf__max_leaf_nodes=2, clf__min_samples_split=3, clf__n_estimators=10, clf__random_state=42;, score=0.938 total time=   0.0s\n",
      "[CV 5/5] END clf__max_depth=1, clf__max_leaf_nodes=2, clf__min_samples_split=3, clf__n_estimators=10, clf__random_state=42;, score=0.938 total time=   0.0s\n",
      "[CV 1/5] END clf__max_depth=1, clf__max_leaf_nodes=2, clf__min_samples_split=4, clf__n_estimators=1, clf__random_state=42;, score=0.750 total time=   0.0s\n",
      "[CV 2/5] END clf__max_depth=1, clf__max_leaf_nodes=2, clf__min_samples_split=4, clf__n_estimators=1, clf__random_state=42;, score=0.812 total time=   0.0s\n",
      "[CV 3/5] END clf__max_depth=1, clf__max_leaf_nodes=2, clf__min_samples_split=4, clf__n_estimators=1, clf__random_state=42;, score=0.875 total time=   0.0s\n",
      "[CV 4/5] END clf__max_depth=1, clf__max_leaf_nodes=2, clf__min_samples_split=4, clf__n_estimators=1, clf__random_state=42;, score=0.500 total time=   0.0s\n",
      "[CV 5/5] END clf__max_depth=1, clf__max_leaf_nodes=2, clf__min_samples_split=4, clf__n_estimators=1, clf__random_state=42;, score=0.750 total time=   0.0s\n",
      "[CV 1/5] END clf__max_depth=1, clf__max_leaf_nodes=2, clf__min_samples_split=4, clf__n_estimators=5, clf__random_state=42;, score=0.875 total time=   0.0s\n",
      "[CV 2/5] END clf__max_depth=1, clf__max_leaf_nodes=2, clf__min_samples_split=4, clf__n_estimators=5, clf__random_state=42;, score=1.000 total time=   0.0s\n",
      "[CV 3/5] END clf__max_depth=1, clf__max_leaf_nodes=2, clf__min_samples_split=4, clf__n_estimators=5, clf__random_state=42;, score=0.938 total time=   0.0s\n",
      "[CV 4/5] END clf__max_depth=1, clf__max_leaf_nodes=2, clf__min_samples_split=4, clf__n_estimators=5, clf__random_state=42;, score=0.938 total time=   0.0s\n",
      "[CV 5/5] END clf__max_depth=1, clf__max_leaf_nodes=2, clf__min_samples_split=4, clf__n_estimators=5, clf__random_state=42;, score=0.938 total time=   0.0s\n",
      "[CV 1/5] END clf__max_depth=1, clf__max_leaf_nodes=2, clf__min_samples_split=4, clf__n_estimators=10, clf__random_state=42;, score=0.875 total time=   0.0s\n",
      "[CV 2/5] END clf__max_depth=1, clf__max_leaf_nodes=2, clf__min_samples_split=4, clf__n_estimators=10, clf__random_state=42;, score=1.000 total time=   0.0s\n",
      "[CV 3/5] END clf__max_depth=1, clf__max_leaf_nodes=2, clf__min_samples_split=4, clf__n_estimators=10, clf__random_state=42;, score=0.938 total time=   0.0s\n",
      "[CV 4/5] END clf__max_depth=1, clf__max_leaf_nodes=2, clf__min_samples_split=4, clf__n_estimators=10, clf__random_state=42;, score=0.938 total time=   0.0s\n",
      "[CV 5/5] END clf__max_depth=1, clf__max_leaf_nodes=2, clf__min_samples_split=4, clf__n_estimators=10, clf__random_state=42;, score=0.938 total time=   0.0s\n",
      "[CV 1/5] END clf__max_depth=1, clf__max_leaf_nodes=5, clf__min_samples_split=2, clf__n_estimators=1, clf__random_state=42;, score=0.750 total time=   0.0s\n",
      "[CV 2/5] END clf__max_depth=1, clf__max_leaf_nodes=5, clf__min_samples_split=2, clf__n_estimators=1, clf__random_state=42;, score=0.812 total time=   0.0s\n",
      "[CV 3/5] END clf__max_depth=1, clf__max_leaf_nodes=5, clf__min_samples_split=2, clf__n_estimators=1, clf__random_state=42;, score=0.875 total time=   0.0s\n",
      "[CV 4/5] END clf__max_depth=1, clf__max_leaf_nodes=5, clf__min_samples_split=2, clf__n_estimators=1, clf__random_state=42;, score=0.500 total time=   0.0s\n",
      "[CV 5/5] END clf__max_depth=1, clf__max_leaf_nodes=5, clf__min_samples_split=2, clf__n_estimators=1, clf__random_state=42;, score=0.750 total time=   0.0s\n",
      "[CV 1/5] END clf__max_depth=1, clf__max_leaf_nodes=5, clf__min_samples_split=2, clf__n_estimators=5, clf__random_state=42;, score=0.875 total time=   0.0s\n",
      "[CV 2/5] END clf__max_depth=1, clf__max_leaf_nodes=5, clf__min_samples_split=2, clf__n_estimators=5, clf__random_state=42;, score=1.000 total time=   0.0s\n",
      "[CV 3/5] END clf__max_depth=1, clf__max_leaf_nodes=5, clf__min_samples_split=2, clf__n_estimators=5, clf__random_state=42;, score=0.938 total time=   0.0s\n",
      "[CV 4/5] END clf__max_depth=1, clf__max_leaf_nodes=5, clf__min_samples_split=2, clf__n_estimators=5, clf__random_state=42;, score=0.938 total time=   0.0s\n",
      "[CV 5/5] END clf__max_depth=1, clf__max_leaf_nodes=5, clf__min_samples_split=2, clf__n_estimators=5, clf__random_state=42;, score=0.938 total time=   0.0s\n",
      "[CV 1/5] END clf__max_depth=1, clf__max_leaf_nodes=5, clf__min_samples_split=2, clf__n_estimators=10, clf__random_state=42;, score=0.875 total time=   0.0s\n",
      "[CV 2/5] END clf__max_depth=1, clf__max_leaf_nodes=5, clf__min_samples_split=2, clf__n_estimators=10, clf__random_state=42;, score=1.000 total time=   0.0s\n"
     ]
    },
    {
     "name": "stdout",
     "output_type": "stream",
     "text": [
      "[CV 3/5] END clf__max_depth=1, clf__max_leaf_nodes=5, clf__min_samples_split=2, clf__n_estimators=10, clf__random_state=42;, score=0.938 total time=   0.0s\n",
      "[CV 4/5] END clf__max_depth=1, clf__max_leaf_nodes=5, clf__min_samples_split=2, clf__n_estimators=10, clf__random_state=42;, score=0.938 total time=   0.0s\n",
      "[CV 5/5] END clf__max_depth=1, clf__max_leaf_nodes=5, clf__min_samples_split=2, clf__n_estimators=10, clf__random_state=42;, score=0.938 total time=   0.0s\n",
      "[CV 1/5] END clf__max_depth=1, clf__max_leaf_nodes=5, clf__min_samples_split=3, clf__n_estimators=1, clf__random_state=42;, score=0.750 total time=   0.0s\n",
      "[CV 2/5] END clf__max_depth=1, clf__max_leaf_nodes=5, clf__min_samples_split=3, clf__n_estimators=1, clf__random_state=42;, score=0.812 total time=   0.0s\n",
      "[CV 3/5] END clf__max_depth=1, clf__max_leaf_nodes=5, clf__min_samples_split=3, clf__n_estimators=1, clf__random_state=42;, score=0.875 total time=   0.0s\n",
      "[CV 4/5] END clf__max_depth=1, clf__max_leaf_nodes=5, clf__min_samples_split=3, clf__n_estimators=1, clf__random_state=42;, score=0.500 total time=   0.0s\n",
      "[CV 5/5] END clf__max_depth=1, clf__max_leaf_nodes=5, clf__min_samples_split=3, clf__n_estimators=1, clf__random_state=42;, score=0.750 total time=   0.0s\n",
      "[CV 1/5] END clf__max_depth=1, clf__max_leaf_nodes=5, clf__min_samples_split=3, clf__n_estimators=5, clf__random_state=42;, score=0.875 total time=   0.0s\n",
      "[CV 2/5] END clf__max_depth=1, clf__max_leaf_nodes=5, clf__min_samples_split=3, clf__n_estimators=5, clf__random_state=42;, score=1.000 total time=   0.0s\n",
      "[CV 3/5] END clf__max_depth=1, clf__max_leaf_nodes=5, clf__min_samples_split=3, clf__n_estimators=5, clf__random_state=42;, score=0.938 total time=   0.0s\n",
      "[CV 4/5] END clf__max_depth=1, clf__max_leaf_nodes=5, clf__min_samples_split=3, clf__n_estimators=5, clf__random_state=42;, score=0.938 total time=   0.0s\n",
      "[CV 5/5] END clf__max_depth=1, clf__max_leaf_nodes=5, clf__min_samples_split=3, clf__n_estimators=5, clf__random_state=42;, score=0.938 total time=   0.0s\n",
      "[CV 1/5] END clf__max_depth=1, clf__max_leaf_nodes=5, clf__min_samples_split=3, clf__n_estimators=10, clf__random_state=42;, score=0.875 total time=   0.0s\n",
      "[CV 2/5] END clf__max_depth=1, clf__max_leaf_nodes=5, clf__min_samples_split=3, clf__n_estimators=10, clf__random_state=42;, score=1.000 total time=   0.0s\n",
      "[CV 3/5] END clf__max_depth=1, clf__max_leaf_nodes=5, clf__min_samples_split=3, clf__n_estimators=10, clf__random_state=42;, score=0.938 total time=   0.0s\n",
      "[CV 4/5] END clf__max_depth=1, clf__max_leaf_nodes=5, clf__min_samples_split=3, clf__n_estimators=10, clf__random_state=42;, score=0.938 total time=   0.0s\n",
      "[CV 5/5] END clf__max_depth=1, clf__max_leaf_nodes=5, clf__min_samples_split=3, clf__n_estimators=10, clf__random_state=42;, score=0.938 total time=   0.0s\n",
      "[CV 1/5] END clf__max_depth=1, clf__max_leaf_nodes=5, clf__min_samples_split=4, clf__n_estimators=1, clf__random_state=42;, score=0.750 total time=   0.0s\n",
      "[CV 2/5] END clf__max_depth=1, clf__max_leaf_nodes=5, clf__min_samples_split=4, clf__n_estimators=1, clf__random_state=42;, score=0.812 total time=   0.0s\n",
      "[CV 3/5] END clf__max_depth=1, clf__max_leaf_nodes=5, clf__min_samples_split=4, clf__n_estimators=1, clf__random_state=42;, score=0.875 total time=   0.0s\n",
      "[CV 4/5] END clf__max_depth=1, clf__max_leaf_nodes=5, clf__min_samples_split=4, clf__n_estimators=1, clf__random_state=42;, score=0.500 total time=   0.0s\n",
      "[CV 5/5] END clf__max_depth=1, clf__max_leaf_nodes=5, clf__min_samples_split=4, clf__n_estimators=1, clf__random_state=42;, score=0.750 total time=   0.0s\n",
      "[CV 1/5] END clf__max_depth=1, clf__max_leaf_nodes=5, clf__min_samples_split=4, clf__n_estimators=5, clf__random_state=42;, score=0.875 total time=   0.0s\n",
      "[CV 2/5] END clf__max_depth=1, clf__max_leaf_nodes=5, clf__min_samples_split=4, clf__n_estimators=5, clf__random_state=42;, score=1.000 total time=   0.0s\n",
      "[CV 3/5] END clf__max_depth=1, clf__max_leaf_nodes=5, clf__min_samples_split=4, clf__n_estimators=5, clf__random_state=42;, score=0.938 total time=   0.0s\n",
      "[CV 4/5] END clf__max_depth=1, clf__max_leaf_nodes=5, clf__min_samples_split=4, clf__n_estimators=5, clf__random_state=42;, score=0.938 total time=   0.0s\n",
      "[CV 5/5] END clf__max_depth=1, clf__max_leaf_nodes=5, clf__min_samples_split=4, clf__n_estimators=5, clf__random_state=42;, score=0.938 total time=   0.0s\n",
      "[CV 1/5] END clf__max_depth=1, clf__max_leaf_nodes=5, clf__min_samples_split=4, clf__n_estimators=10, clf__random_state=42;, score=0.875 total time=   0.0s\n",
      "[CV 2/5] END clf__max_depth=1, clf__max_leaf_nodes=5, clf__min_samples_split=4, clf__n_estimators=10, clf__random_state=42;, score=1.000 total time=   0.0s\n",
      "[CV 3/5] END clf__max_depth=1, clf__max_leaf_nodes=5, clf__min_samples_split=4, clf__n_estimators=10, clf__random_state=42;, score=0.938 total time=   0.0s\n",
      "[CV 4/5] END clf__max_depth=1, clf__max_leaf_nodes=5, clf__min_samples_split=4, clf__n_estimators=10, clf__random_state=42;, score=0.938 total time=   0.0s\n",
      "[CV 5/5] END clf__max_depth=1, clf__max_leaf_nodes=5, clf__min_samples_split=4, clf__n_estimators=10, clf__random_state=42;, score=0.938 total time=   0.0s\n",
      "[CV 1/5] END clf__max_depth=1, clf__max_leaf_nodes=10, clf__min_samples_split=2, clf__n_estimators=1, clf__random_state=42;, score=0.750 total time=   0.0s\n",
      "[CV 2/5] END clf__max_depth=1, clf__max_leaf_nodes=10, clf__min_samples_split=2, clf__n_estimators=1, clf__random_state=42;, score=0.812 total time=   0.0s\n",
      "[CV 3/5] END clf__max_depth=1, clf__max_leaf_nodes=10, clf__min_samples_split=2, clf__n_estimators=1, clf__random_state=42;, score=0.875 total time=   0.0s\n",
      "[CV 4/5] END clf__max_depth=1, clf__max_leaf_nodes=10, clf__min_samples_split=2, clf__n_estimators=1, clf__random_state=42;, score=0.500 total time=   0.0s\n",
      "[CV 5/5] END clf__max_depth=1, clf__max_leaf_nodes=10, clf__min_samples_split=2, clf__n_estimators=1, clf__random_state=42;, score=0.750 total time=   0.0s\n",
      "[CV 1/5] END clf__max_depth=1, clf__max_leaf_nodes=10, clf__min_samples_split=2, clf__n_estimators=5, clf__random_state=42;, score=0.875 total time=   0.0s\n",
      "[CV 2/5] END clf__max_depth=1, clf__max_leaf_nodes=10, clf__min_samples_split=2, clf__n_estimators=5, clf__random_state=42;, score=1.000 total time=   0.0s\n",
      "[CV 3/5] END clf__max_depth=1, clf__max_leaf_nodes=10, clf__min_samples_split=2, clf__n_estimators=5, clf__random_state=42;, score=0.938 total time=   0.0s\n",
      "[CV 4/5] END clf__max_depth=1, clf__max_leaf_nodes=10, clf__min_samples_split=2, clf__n_estimators=5, clf__random_state=42;, score=0.938 total time=   0.0s\n",
      "[CV 5/5] END clf__max_depth=1, clf__max_leaf_nodes=10, clf__min_samples_split=2, clf__n_estimators=5, clf__random_state=42;, score=0.938 total time=   0.0s\n",
      "[CV 1/5] END clf__max_depth=1, clf__max_leaf_nodes=10, clf__min_samples_split=2, clf__n_estimators=10, clf__random_state=42;, score=0.875 total time=   0.0s\n",
      "[CV 2/5] END clf__max_depth=1, clf__max_leaf_nodes=10, clf__min_samples_split=2, clf__n_estimators=10, clf__random_state=42;, score=1.000 total time=   0.0s\n",
      "[CV 3/5] END clf__max_depth=1, clf__max_leaf_nodes=10, clf__min_samples_split=2, clf__n_estimators=10, clf__random_state=42;, score=0.938 total time=   0.0s\n",
      "[CV 4/5] END clf__max_depth=1, clf__max_leaf_nodes=10, clf__min_samples_split=2, clf__n_estimators=10, clf__random_state=42;, score=0.938 total time=   0.0s\n",
      "[CV 5/5] END clf__max_depth=1, clf__max_leaf_nodes=10, clf__min_samples_split=2, clf__n_estimators=10, clf__random_state=42;, score=0.938 total time=   0.0s\n",
      "[CV 1/5] END clf__max_depth=1, clf__max_leaf_nodes=10, clf__min_samples_split=3, clf__n_estimators=1, clf__random_state=42;, score=0.750 total time=   0.0s\n",
      "[CV 2/5] END clf__max_depth=1, clf__max_leaf_nodes=10, clf__min_samples_split=3, clf__n_estimators=1, clf__random_state=42;, score=0.812 total time=   0.0s\n",
      "[CV 3/5] END clf__max_depth=1, clf__max_leaf_nodes=10, clf__min_samples_split=3, clf__n_estimators=1, clf__random_state=42;, score=0.875 total time=   0.0s\n",
      "[CV 4/5] END clf__max_depth=1, clf__max_leaf_nodes=10, clf__min_samples_split=3, clf__n_estimators=1, clf__random_state=42;, score=0.500 total time=   0.0s\n",
      "[CV 5/5] END clf__max_depth=1, clf__max_leaf_nodes=10, clf__min_samples_split=3, clf__n_estimators=1, clf__random_state=42;, score=0.750 total time=   0.0s\n",
      "[CV 1/5] END clf__max_depth=1, clf__max_leaf_nodes=10, clf__min_samples_split=3, clf__n_estimators=5, clf__random_state=42;, score=0.875 total time=   0.0s\n",
      "[CV 2/5] END clf__max_depth=1, clf__max_leaf_nodes=10, clf__min_samples_split=3, clf__n_estimators=5, clf__random_state=42;, score=1.000 total time=   0.0s\n",
      "[CV 3/5] END clf__max_depth=1, clf__max_leaf_nodes=10, clf__min_samples_split=3, clf__n_estimators=5, clf__random_state=42;, score=0.938 total time=   0.0s\n",
      "[CV 4/5] END clf__max_depth=1, clf__max_leaf_nodes=10, clf__min_samples_split=3, clf__n_estimators=5, clf__random_state=42;, score=0.938 total time=   0.0s\n",
      "[CV 5/5] END clf__max_depth=1, clf__max_leaf_nodes=10, clf__min_samples_split=3, clf__n_estimators=5, clf__random_state=42;, score=0.938 total time=   0.0s\n",
      "[CV 1/5] END clf__max_depth=1, clf__max_leaf_nodes=10, clf__min_samples_split=3, clf__n_estimators=10, clf__random_state=42;, score=0.875 total time=   0.0s\n",
      "[CV 2/5] END clf__max_depth=1, clf__max_leaf_nodes=10, clf__min_samples_split=3, clf__n_estimators=10, clf__random_state=42;, score=1.000 total time=   0.0s\n",
      "[CV 3/5] END clf__max_depth=1, clf__max_leaf_nodes=10, clf__min_samples_split=3, clf__n_estimators=10, clf__random_state=42;, score=0.938 total time=   0.0s\n"
     ]
    },
    {
     "name": "stdout",
     "output_type": "stream",
     "text": [
      "[CV 4/5] END clf__max_depth=1, clf__max_leaf_nodes=10, clf__min_samples_split=3, clf__n_estimators=10, clf__random_state=42;, score=0.938 total time=   0.0s\n",
      "[CV 5/5] END clf__max_depth=1, clf__max_leaf_nodes=10, clf__min_samples_split=3, clf__n_estimators=10, clf__random_state=42;, score=0.938 total time=   0.0s\n",
      "[CV 1/5] END clf__max_depth=1, clf__max_leaf_nodes=10, clf__min_samples_split=4, clf__n_estimators=1, clf__random_state=42;, score=0.750 total time=   0.0s\n",
      "[CV 2/5] END clf__max_depth=1, clf__max_leaf_nodes=10, clf__min_samples_split=4, clf__n_estimators=1, clf__random_state=42;, score=0.812 total time=   0.0s\n",
      "[CV 3/5] END clf__max_depth=1, clf__max_leaf_nodes=10, clf__min_samples_split=4, clf__n_estimators=1, clf__random_state=42;, score=0.875 total time=   0.0s\n",
      "[CV 4/5] END clf__max_depth=1, clf__max_leaf_nodes=10, clf__min_samples_split=4, clf__n_estimators=1, clf__random_state=42;, score=0.500 total time=   0.0s\n",
      "[CV 5/5] END clf__max_depth=1, clf__max_leaf_nodes=10, clf__min_samples_split=4, clf__n_estimators=1, clf__random_state=42;, score=0.750 total time=   0.0s\n",
      "[CV 1/5] END clf__max_depth=1, clf__max_leaf_nodes=10, clf__min_samples_split=4, clf__n_estimators=5, clf__random_state=42;, score=0.875 total time=   0.0s\n",
      "[CV 2/5] END clf__max_depth=1, clf__max_leaf_nodes=10, clf__min_samples_split=4, clf__n_estimators=5, clf__random_state=42;, score=1.000 total time=   0.0s\n",
      "[CV 3/5] END clf__max_depth=1, clf__max_leaf_nodes=10, clf__min_samples_split=4, clf__n_estimators=5, clf__random_state=42;, score=0.938 total time=   0.0s\n",
      "[CV 4/5] END clf__max_depth=1, clf__max_leaf_nodes=10, clf__min_samples_split=4, clf__n_estimators=5, clf__random_state=42;, score=0.938 total time=   0.0s\n",
      "[CV 5/5] END clf__max_depth=1, clf__max_leaf_nodes=10, clf__min_samples_split=4, clf__n_estimators=5, clf__random_state=42;, score=0.938 total time=   0.0s\n",
      "[CV 1/5] END clf__max_depth=1, clf__max_leaf_nodes=10, clf__min_samples_split=4, clf__n_estimators=10, clf__random_state=42;, score=0.875 total time=   0.0s\n",
      "[CV 2/5] END clf__max_depth=1, clf__max_leaf_nodes=10, clf__min_samples_split=4, clf__n_estimators=10, clf__random_state=42;, score=1.000 total time=   0.0s\n",
      "[CV 3/5] END clf__max_depth=1, clf__max_leaf_nodes=10, clf__min_samples_split=4, clf__n_estimators=10, clf__random_state=42;, score=0.938 total time=   0.0s\n",
      "[CV 4/5] END clf__max_depth=1, clf__max_leaf_nodes=10, clf__min_samples_split=4, clf__n_estimators=10, clf__random_state=42;, score=0.938 total time=   0.0s\n",
      "[CV 5/5] END clf__max_depth=1, clf__max_leaf_nodes=10, clf__min_samples_split=4, clf__n_estimators=10, clf__random_state=42;, score=0.938 total time=   0.0s\n",
      "[CV 1/5] END clf__max_depth=5, clf__max_leaf_nodes=2, clf__min_samples_split=2, clf__n_estimators=1, clf__random_state=42;, score=0.750 total time=   0.0s\n",
      "[CV 2/5] END clf__max_depth=5, clf__max_leaf_nodes=2, clf__min_samples_split=2, clf__n_estimators=1, clf__random_state=42;, score=0.812 total time=   0.0s\n",
      "[CV 3/5] END clf__max_depth=5, clf__max_leaf_nodes=2, clf__min_samples_split=2, clf__n_estimators=1, clf__random_state=42;, score=0.875 total time=   0.0s\n",
      "[CV 4/5] END clf__max_depth=5, clf__max_leaf_nodes=2, clf__min_samples_split=2, clf__n_estimators=1, clf__random_state=42;, score=0.500 total time=   0.0s\n",
      "[CV 5/5] END clf__max_depth=5, clf__max_leaf_nodes=2, clf__min_samples_split=2, clf__n_estimators=1, clf__random_state=42;, score=0.750 total time=   0.0s\n",
      "[CV 1/5] END clf__max_depth=5, clf__max_leaf_nodes=2, clf__min_samples_split=2, clf__n_estimators=5, clf__random_state=42;, score=0.875 total time=   0.0s\n",
      "[CV 2/5] END clf__max_depth=5, clf__max_leaf_nodes=2, clf__min_samples_split=2, clf__n_estimators=5, clf__random_state=42;, score=1.000 total time=   0.0s\n",
      "[CV 3/5] END clf__max_depth=5, clf__max_leaf_nodes=2, clf__min_samples_split=2, clf__n_estimators=5, clf__random_state=42;, score=0.938 total time=   0.0s\n",
      "[CV 4/5] END clf__max_depth=5, clf__max_leaf_nodes=2, clf__min_samples_split=2, clf__n_estimators=5, clf__random_state=42;, score=0.938 total time=   0.0s\n",
      "[CV 5/5] END clf__max_depth=5, clf__max_leaf_nodes=2, clf__min_samples_split=2, clf__n_estimators=5, clf__random_state=42;, score=0.938 total time=   0.0s\n",
      "[CV 1/5] END clf__max_depth=5, clf__max_leaf_nodes=2, clf__min_samples_split=2, clf__n_estimators=10, clf__random_state=42;, score=0.875 total time=   0.0s\n",
      "[CV 2/5] END clf__max_depth=5, clf__max_leaf_nodes=2, clf__min_samples_split=2, clf__n_estimators=10, clf__random_state=42;, score=1.000 total time=   0.0s\n",
      "[CV 3/5] END clf__max_depth=5, clf__max_leaf_nodes=2, clf__min_samples_split=2, clf__n_estimators=10, clf__random_state=42;, score=0.938 total time=   0.0s\n",
      "[CV 4/5] END clf__max_depth=5, clf__max_leaf_nodes=2, clf__min_samples_split=2, clf__n_estimators=10, clf__random_state=42;, score=0.938 total time=   0.0s\n",
      "[CV 5/5] END clf__max_depth=5, clf__max_leaf_nodes=2, clf__min_samples_split=2, clf__n_estimators=10, clf__random_state=42;, score=0.938 total time=   0.0s\n",
      "[CV 1/5] END clf__max_depth=5, clf__max_leaf_nodes=2, clf__min_samples_split=3, clf__n_estimators=1, clf__random_state=42;, score=0.750 total time=   0.0s\n",
      "[CV 2/5] END clf__max_depth=5, clf__max_leaf_nodes=2, clf__min_samples_split=3, clf__n_estimators=1, clf__random_state=42;, score=0.812 total time=   0.0s\n",
      "[CV 3/5] END clf__max_depth=5, clf__max_leaf_nodes=2, clf__min_samples_split=3, clf__n_estimators=1, clf__random_state=42;, score=0.875 total time=   0.0s\n",
      "[CV 4/5] END clf__max_depth=5, clf__max_leaf_nodes=2, clf__min_samples_split=3, clf__n_estimators=1, clf__random_state=42;, score=0.500 total time=   0.0s\n",
      "[CV 5/5] END clf__max_depth=5, clf__max_leaf_nodes=2, clf__min_samples_split=3, clf__n_estimators=1, clf__random_state=42;, score=0.750 total time=   0.0s\n",
      "[CV 1/5] END clf__max_depth=5, clf__max_leaf_nodes=2, clf__min_samples_split=3, clf__n_estimators=5, clf__random_state=42;, score=0.875 total time=   0.0s\n",
      "[CV 2/5] END clf__max_depth=5, clf__max_leaf_nodes=2, clf__min_samples_split=3, clf__n_estimators=5, clf__random_state=42;, score=1.000 total time=   0.0s\n",
      "[CV 3/5] END clf__max_depth=5, clf__max_leaf_nodes=2, clf__min_samples_split=3, clf__n_estimators=5, clf__random_state=42;, score=0.938 total time=   0.0s\n",
      "[CV 4/5] END clf__max_depth=5, clf__max_leaf_nodes=2, clf__min_samples_split=3, clf__n_estimators=5, clf__random_state=42;, score=0.938 total time=   0.0s\n",
      "[CV 5/5] END clf__max_depth=5, clf__max_leaf_nodes=2, clf__min_samples_split=3, clf__n_estimators=5, clf__random_state=42;, score=0.938 total time=   0.0s\n",
      "[CV 1/5] END clf__max_depth=5, clf__max_leaf_nodes=2, clf__min_samples_split=3, clf__n_estimators=10, clf__random_state=42;, score=0.875 total time=   0.0s\n",
      "[CV 2/5] END clf__max_depth=5, clf__max_leaf_nodes=2, clf__min_samples_split=3, clf__n_estimators=10, clf__random_state=42;, score=1.000 total time=   0.0s\n",
      "[CV 3/5] END clf__max_depth=5, clf__max_leaf_nodes=2, clf__min_samples_split=3, clf__n_estimators=10, clf__random_state=42;, score=0.938 total time=   0.0s\n",
      "[CV 4/5] END clf__max_depth=5, clf__max_leaf_nodes=2, clf__min_samples_split=3, clf__n_estimators=10, clf__random_state=42;, score=0.938 total time=   0.0s\n",
      "[CV 5/5] END clf__max_depth=5, clf__max_leaf_nodes=2, clf__min_samples_split=3, clf__n_estimators=10, clf__random_state=42;, score=0.938 total time=   0.0s\n",
      "[CV 1/5] END clf__max_depth=5, clf__max_leaf_nodes=2, clf__min_samples_split=4, clf__n_estimators=1, clf__random_state=42;, score=0.750 total time=   0.0s\n",
      "[CV 2/5] END clf__max_depth=5, clf__max_leaf_nodes=2, clf__min_samples_split=4, clf__n_estimators=1, clf__random_state=42;, score=0.812 total time=   0.0s\n",
      "[CV 3/5] END clf__max_depth=5, clf__max_leaf_nodes=2, clf__min_samples_split=4, clf__n_estimators=1, clf__random_state=42;, score=0.875 total time=   0.0s\n",
      "[CV 4/5] END clf__max_depth=5, clf__max_leaf_nodes=2, clf__min_samples_split=4, clf__n_estimators=1, clf__random_state=42;, score=0.500 total time=   0.0s\n",
      "[CV 5/5] END clf__max_depth=5, clf__max_leaf_nodes=2, clf__min_samples_split=4, clf__n_estimators=1, clf__random_state=42;, score=0.750 total time=   0.0s\n",
      "[CV 1/5] END clf__max_depth=5, clf__max_leaf_nodes=2, clf__min_samples_split=4, clf__n_estimators=5, clf__random_state=42;, score=0.875 total time=   0.0s\n",
      "[CV 2/5] END clf__max_depth=5, clf__max_leaf_nodes=2, clf__min_samples_split=4, clf__n_estimators=5, clf__random_state=42;, score=1.000 total time=   0.0s\n"
     ]
    },
    {
     "name": "stdout",
     "output_type": "stream",
     "text": [
      "[CV 3/5] END clf__max_depth=5, clf__max_leaf_nodes=2, clf__min_samples_split=4, clf__n_estimators=5, clf__random_state=42;, score=0.938 total time=   0.0s\n",
      "[CV 4/5] END clf__max_depth=5, clf__max_leaf_nodes=2, clf__min_samples_split=4, clf__n_estimators=5, clf__random_state=42;, score=0.938 total time=   0.0s\n",
      "[CV 5/5] END clf__max_depth=5, clf__max_leaf_nodes=2, clf__min_samples_split=4, clf__n_estimators=5, clf__random_state=42;, score=0.938 total time=   0.0s\n",
      "[CV 1/5] END clf__max_depth=5, clf__max_leaf_nodes=2, clf__min_samples_split=4, clf__n_estimators=10, clf__random_state=42;, score=0.875 total time=   0.0s\n",
      "[CV 2/5] END clf__max_depth=5, clf__max_leaf_nodes=2, clf__min_samples_split=4, clf__n_estimators=10, clf__random_state=42;, score=1.000 total time=   0.0s\n",
      "[CV 3/5] END clf__max_depth=5, clf__max_leaf_nodes=2, clf__min_samples_split=4, clf__n_estimators=10, clf__random_state=42;, score=0.938 total time=   0.0s\n",
      "[CV 4/5] END clf__max_depth=5, clf__max_leaf_nodes=2, clf__min_samples_split=4, clf__n_estimators=10, clf__random_state=42;, score=0.938 total time=   0.0s\n",
      "[CV 5/5] END clf__max_depth=5, clf__max_leaf_nodes=2, clf__min_samples_split=4, clf__n_estimators=10, clf__random_state=42;, score=0.938 total time=   0.0s\n",
      "[CV 1/5] END clf__max_depth=5, clf__max_leaf_nodes=5, clf__min_samples_split=2, clf__n_estimators=1, clf__random_state=42;, score=0.812 total time=   0.0s\n",
      "[CV 2/5] END clf__max_depth=5, clf__max_leaf_nodes=5, clf__min_samples_split=2, clf__n_estimators=1, clf__random_state=42;, score=1.000 total time=   0.0s\n",
      "[CV 3/5] END clf__max_depth=5, clf__max_leaf_nodes=5, clf__min_samples_split=2, clf__n_estimators=1, clf__random_state=42;, score=0.750 total time=   0.0s\n",
      "[CV 4/5] END clf__max_depth=5, clf__max_leaf_nodes=5, clf__min_samples_split=2, clf__n_estimators=1, clf__random_state=42;, score=0.812 total time=   0.0s\n",
      "[CV 5/5] END clf__max_depth=5, clf__max_leaf_nodes=5, clf__min_samples_split=2, clf__n_estimators=1, clf__random_state=42;, score=0.938 total time=   0.0s\n",
      "[CV 1/5] END clf__max_depth=5, clf__max_leaf_nodes=5, clf__min_samples_split=2, clf__n_estimators=5, clf__random_state=42;, score=0.750 total time=   0.0s\n",
      "[CV 2/5] END clf__max_depth=5, clf__max_leaf_nodes=5, clf__min_samples_split=2, clf__n_estimators=5, clf__random_state=42;, score=1.000 total time=   0.0s\n",
      "[CV 3/5] END clf__max_depth=5, clf__max_leaf_nodes=5, clf__min_samples_split=2, clf__n_estimators=5, clf__random_state=42;, score=0.812 total time=   0.0s\n",
      "[CV 4/5] END clf__max_depth=5, clf__max_leaf_nodes=5, clf__min_samples_split=2, clf__n_estimators=5, clf__random_state=42;, score=0.938 total time=   0.0s\n",
      "[CV 5/5] END clf__max_depth=5, clf__max_leaf_nodes=5, clf__min_samples_split=2, clf__n_estimators=5, clf__random_state=42;, score=0.938 total time=   0.0s\n",
      "[CV 1/5] END clf__max_depth=5, clf__max_leaf_nodes=5, clf__min_samples_split=2, clf__n_estimators=10, clf__random_state=42;, score=0.750 total time=   0.0s\n",
      "[CV 2/5] END clf__max_depth=5, clf__max_leaf_nodes=5, clf__min_samples_split=2, clf__n_estimators=10, clf__random_state=42;, score=1.000 total time=   0.0s\n",
      "[CV 3/5] END clf__max_depth=5, clf__max_leaf_nodes=5, clf__min_samples_split=2, clf__n_estimators=10, clf__random_state=42;, score=0.812 total time=   0.0s\n",
      "[CV 4/5] END clf__max_depth=5, clf__max_leaf_nodes=5, clf__min_samples_split=2, clf__n_estimators=10, clf__random_state=42;, score=0.938 total time=   0.0s\n",
      "[CV 5/5] END clf__max_depth=5, clf__max_leaf_nodes=5, clf__min_samples_split=2, clf__n_estimators=10, clf__random_state=42;, score=0.938 total time=   0.0s\n",
      "[CV 1/5] END clf__max_depth=5, clf__max_leaf_nodes=5, clf__min_samples_split=3, clf__n_estimators=1, clf__random_state=42;, score=0.812 total time=   0.0s\n",
      "[CV 2/5] END clf__max_depth=5, clf__max_leaf_nodes=5, clf__min_samples_split=3, clf__n_estimators=1, clf__random_state=42;, score=1.000 total time=   0.0s\n",
      "[CV 3/5] END clf__max_depth=5, clf__max_leaf_nodes=5, clf__min_samples_split=3, clf__n_estimators=1, clf__random_state=42;, score=0.750 total time=   0.0s\n",
      "[CV 4/5] END clf__max_depth=5, clf__max_leaf_nodes=5, clf__min_samples_split=3, clf__n_estimators=1, clf__random_state=42;, score=0.812 total time=   0.0s\n",
      "[CV 5/5] END clf__max_depth=5, clf__max_leaf_nodes=5, clf__min_samples_split=3, clf__n_estimators=1, clf__random_state=42;, score=0.938 total time=   0.0s\n",
      "[CV 1/5] END clf__max_depth=5, clf__max_leaf_nodes=5, clf__min_samples_split=3, clf__n_estimators=5, clf__random_state=42;, score=0.750 total time=   0.0s\n",
      "[CV 2/5] END clf__max_depth=5, clf__max_leaf_nodes=5, clf__min_samples_split=3, clf__n_estimators=5, clf__random_state=42;, score=1.000 total time=   0.0s\n",
      "[CV 3/5] END clf__max_depth=5, clf__max_leaf_nodes=5, clf__min_samples_split=3, clf__n_estimators=5, clf__random_state=42;, score=0.812 total time=   0.0s\n",
      "[CV 4/5] END clf__max_depth=5, clf__max_leaf_nodes=5, clf__min_samples_split=3, clf__n_estimators=5, clf__random_state=42;, score=0.938 total time=   0.0s\n",
      "[CV 5/5] END clf__max_depth=5, clf__max_leaf_nodes=5, clf__min_samples_split=3, clf__n_estimators=5, clf__random_state=42;, score=0.938 total time=   0.0s\n",
      "[CV 1/5] END clf__max_depth=5, clf__max_leaf_nodes=5, clf__min_samples_split=3, clf__n_estimators=10, clf__random_state=42;, score=0.750 total time=   0.0s\n",
      "[CV 2/5] END clf__max_depth=5, clf__max_leaf_nodes=5, clf__min_samples_split=3, clf__n_estimators=10, clf__random_state=42;, score=1.000 total time=   0.0s\n",
      "[CV 3/5] END clf__max_depth=5, clf__max_leaf_nodes=5, clf__min_samples_split=3, clf__n_estimators=10, clf__random_state=42;, score=0.812 total time=   0.0s\n",
      "[CV 4/5] END clf__max_depth=5, clf__max_leaf_nodes=5, clf__min_samples_split=3, clf__n_estimators=10, clf__random_state=42;, score=0.938 total time=   0.0s\n",
      "[CV 5/5] END clf__max_depth=5, clf__max_leaf_nodes=5, clf__min_samples_split=3, clf__n_estimators=10, clf__random_state=42;, score=0.938 total time=   0.0s\n",
      "[CV 1/5] END clf__max_depth=5, clf__max_leaf_nodes=5, clf__min_samples_split=4, clf__n_estimators=1, clf__random_state=42;, score=0.812 total time=   0.0s\n",
      "[CV 2/5] END clf__max_depth=5, clf__max_leaf_nodes=5, clf__min_samples_split=4, clf__n_estimators=1, clf__random_state=42;, score=1.000 total time=   0.0s\n",
      "[CV 3/5] END clf__max_depth=5, clf__max_leaf_nodes=5, clf__min_samples_split=4, clf__n_estimators=1, clf__random_state=42;, score=0.750 total time=   0.0s\n",
      "[CV 4/5] END clf__max_depth=5, clf__max_leaf_nodes=5, clf__min_samples_split=4, clf__n_estimators=1, clf__random_state=42;, score=0.812 total time=   0.0s\n",
      "[CV 5/5] END clf__max_depth=5, clf__max_leaf_nodes=5, clf__min_samples_split=4, clf__n_estimators=1, clf__random_state=42;, score=0.938 total time=   0.0s\n",
      "[CV 1/5] END clf__max_depth=5, clf__max_leaf_nodes=5, clf__min_samples_split=4, clf__n_estimators=5, clf__random_state=42;, score=0.750 total time=   0.0s\n",
      "[CV 2/5] END clf__max_depth=5, clf__max_leaf_nodes=5, clf__min_samples_split=4, clf__n_estimators=5, clf__random_state=42;, score=1.000 total time=   0.0s\n",
      "[CV 3/5] END clf__max_depth=5, clf__max_leaf_nodes=5, clf__min_samples_split=4, clf__n_estimators=5, clf__random_state=42;, score=0.812 total time=   0.0s\n",
      "[CV 4/5] END clf__max_depth=5, clf__max_leaf_nodes=5, clf__min_samples_split=4, clf__n_estimators=5, clf__random_state=42;, score=0.938 total time=   0.0s\n",
      "[CV 5/5] END clf__max_depth=5, clf__max_leaf_nodes=5, clf__min_samples_split=4, clf__n_estimators=5, clf__random_state=42;, score=0.938 total time=   0.0s\n",
      "[CV 1/5] END clf__max_depth=5, clf__max_leaf_nodes=5, clf__min_samples_split=4, clf__n_estimators=10, clf__random_state=42;, score=0.750 total time=   0.0s\n",
      "[CV 2/5] END clf__max_depth=5, clf__max_leaf_nodes=5, clf__min_samples_split=4, clf__n_estimators=10, clf__random_state=42;, score=1.000 total time=   0.0s\n",
      "[CV 3/5] END clf__max_depth=5, clf__max_leaf_nodes=5, clf__min_samples_split=4, clf__n_estimators=10, clf__random_state=42;, score=0.812 total time=   0.0s\n",
      "[CV 4/5] END clf__max_depth=5, clf__max_leaf_nodes=5, clf__min_samples_split=4, clf__n_estimators=10, clf__random_state=42;, score=0.938 total time=   0.0s\n",
      "[CV 5/5] END clf__max_depth=5, clf__max_leaf_nodes=5, clf__min_samples_split=4, clf__n_estimators=10, clf__random_state=42;, score=0.938 total time=   0.0s\n",
      "[CV 1/5] END clf__max_depth=5, clf__max_leaf_nodes=10, clf__min_samples_split=2, clf__n_estimators=1, clf__random_state=42;, score=0.812 total time=   0.0s\n",
      "[CV 2/5] END clf__max_depth=5, clf__max_leaf_nodes=10, clf__min_samples_split=2, clf__n_estimators=1, clf__random_state=42;, score=0.938 total time=   0.0s\n",
      "[CV 3/5] END clf__max_depth=5, clf__max_leaf_nodes=10, clf__min_samples_split=2, clf__n_estimators=1, clf__random_state=42;, score=0.688 total time=   0.0s\n",
      "[CV 4/5] END clf__max_depth=5, clf__max_leaf_nodes=10, clf__min_samples_split=2, clf__n_estimators=1, clf__random_state=42;, score=0.938 total time=   0.0s\n",
      "[CV 5/5] END clf__max_depth=5, clf__max_leaf_nodes=10, clf__min_samples_split=2, clf__n_estimators=1, clf__random_state=42;, score=0.938 total time=   0.0s\n"
     ]
    },
    {
     "name": "stdout",
     "output_type": "stream",
     "text": [
      "[CV 1/5] END clf__max_depth=5, clf__max_leaf_nodes=10, clf__min_samples_split=2, clf__n_estimators=5, clf__random_state=42;, score=0.750 total time=   0.0s\n",
      "[CV 2/5] END clf__max_depth=5, clf__max_leaf_nodes=10, clf__min_samples_split=2, clf__n_estimators=5, clf__random_state=42;, score=1.000 total time=   0.0s\n",
      "[CV 3/5] END clf__max_depth=5, clf__max_leaf_nodes=10, clf__min_samples_split=2, clf__n_estimators=5, clf__random_state=42;, score=0.812 total time=   0.0s\n",
      "[CV 4/5] END clf__max_depth=5, clf__max_leaf_nodes=10, clf__min_samples_split=2, clf__n_estimators=5, clf__random_state=42;, score=0.938 total time=   0.0s\n",
      "[CV 5/5] END clf__max_depth=5, clf__max_leaf_nodes=10, clf__min_samples_split=2, clf__n_estimators=5, clf__random_state=42;, score=0.938 total time=   0.0s\n",
      "[CV 1/5] END clf__max_depth=5, clf__max_leaf_nodes=10, clf__min_samples_split=2, clf__n_estimators=10, clf__random_state=42;, score=0.750 total time=   0.0s\n",
      "[CV 2/5] END clf__max_depth=5, clf__max_leaf_nodes=10, clf__min_samples_split=2, clf__n_estimators=10, clf__random_state=42;, score=1.000 total time=   0.0s\n",
      "[CV 3/5] END clf__max_depth=5, clf__max_leaf_nodes=10, clf__min_samples_split=2, clf__n_estimators=10, clf__random_state=42;, score=0.812 total time=   0.0s\n",
      "[CV 4/5] END clf__max_depth=5, clf__max_leaf_nodes=10, clf__min_samples_split=2, clf__n_estimators=10, clf__random_state=42;, score=0.938 total time=   0.0s\n",
      "[CV 5/5] END clf__max_depth=5, clf__max_leaf_nodes=10, clf__min_samples_split=2, clf__n_estimators=10, clf__random_state=42;, score=0.938 total time=   0.0s\n",
      "[CV 1/5] END clf__max_depth=5, clf__max_leaf_nodes=10, clf__min_samples_split=3, clf__n_estimators=1, clf__random_state=42;, score=0.812 total time=   0.0s\n",
      "[CV 2/5] END clf__max_depth=5, clf__max_leaf_nodes=10, clf__min_samples_split=3, clf__n_estimators=1, clf__random_state=42;, score=0.938 total time=   0.0s\n",
      "[CV 3/5] END clf__max_depth=5, clf__max_leaf_nodes=10, clf__min_samples_split=3, clf__n_estimators=1, clf__random_state=42;, score=0.688 total time=   0.0s\n",
      "[CV 4/5] END clf__max_depth=5, clf__max_leaf_nodes=10, clf__min_samples_split=3, clf__n_estimators=1, clf__random_state=42;, score=0.938 total time=   0.0s\n",
      "[CV 5/5] END clf__max_depth=5, clf__max_leaf_nodes=10, clf__min_samples_split=3, clf__n_estimators=1, clf__random_state=42;, score=0.938 total time=   0.0s\n",
      "[CV 1/5] END clf__max_depth=5, clf__max_leaf_nodes=10, clf__min_samples_split=3, clf__n_estimators=5, clf__random_state=42;, score=0.750 total time=   0.0s\n",
      "[CV 2/5] END clf__max_depth=5, clf__max_leaf_nodes=10, clf__min_samples_split=3, clf__n_estimators=5, clf__random_state=42;, score=1.000 total time=   0.0s\n",
      "[CV 3/5] END clf__max_depth=5, clf__max_leaf_nodes=10, clf__min_samples_split=3, clf__n_estimators=5, clf__random_state=42;, score=0.812 total time=   0.0s\n",
      "[CV 4/5] END clf__max_depth=5, clf__max_leaf_nodes=10, clf__min_samples_split=3, clf__n_estimators=5, clf__random_state=42;, score=0.938 total time=   0.0s\n",
      "[CV 5/5] END clf__max_depth=5, clf__max_leaf_nodes=10, clf__min_samples_split=3, clf__n_estimators=5, clf__random_state=42;, score=0.938 total time=   0.0s\n",
      "[CV 1/5] END clf__max_depth=5, clf__max_leaf_nodes=10, clf__min_samples_split=3, clf__n_estimators=10, clf__random_state=42;, score=0.750 total time=   0.0s\n",
      "[CV 2/5] END clf__max_depth=5, clf__max_leaf_nodes=10, clf__min_samples_split=3, clf__n_estimators=10, clf__random_state=42;, score=1.000 total time=   0.0s\n",
      "[CV 3/5] END clf__max_depth=5, clf__max_leaf_nodes=10, clf__min_samples_split=3, clf__n_estimators=10, clf__random_state=42;, score=0.812 total time=   0.0s\n",
      "[CV 4/5] END clf__max_depth=5, clf__max_leaf_nodes=10, clf__min_samples_split=3, clf__n_estimators=10, clf__random_state=42;, score=0.938 total time=   0.0s\n",
      "[CV 5/5] END clf__max_depth=5, clf__max_leaf_nodes=10, clf__min_samples_split=3, clf__n_estimators=10, clf__random_state=42;, score=0.938 total time=   0.0s\n",
      "[CV 1/5] END clf__max_depth=5, clf__max_leaf_nodes=10, clf__min_samples_split=4, clf__n_estimators=1, clf__random_state=42;, score=0.812 total time=   0.0s\n",
      "[CV 2/5] END clf__max_depth=5, clf__max_leaf_nodes=10, clf__min_samples_split=4, clf__n_estimators=1, clf__random_state=42;, score=0.938 total time=   0.0s\n",
      "[CV 3/5] END clf__max_depth=5, clf__max_leaf_nodes=10, clf__min_samples_split=4, clf__n_estimators=1, clf__random_state=42;, score=0.688 total time=   0.0s\n",
      "[CV 4/5] END clf__max_depth=5, clf__max_leaf_nodes=10, clf__min_samples_split=4, clf__n_estimators=1, clf__random_state=42;, score=0.938 total time=   0.0s\n",
      "[CV 5/5] END clf__max_depth=5, clf__max_leaf_nodes=10, clf__min_samples_split=4, clf__n_estimators=1, clf__random_state=42;, score=0.938 total time=   0.0s\n",
      "[CV 1/5] END clf__max_depth=5, clf__max_leaf_nodes=10, clf__min_samples_split=4, clf__n_estimators=5, clf__random_state=42;, score=0.750 total time=   0.0s\n",
      "[CV 2/5] END clf__max_depth=5, clf__max_leaf_nodes=10, clf__min_samples_split=4, clf__n_estimators=5, clf__random_state=42;, score=1.000 total time=   0.0s\n",
      "[CV 3/5] END clf__max_depth=5, clf__max_leaf_nodes=10, clf__min_samples_split=4, clf__n_estimators=5, clf__random_state=42;, score=0.812 total time=   0.0s\n",
      "[CV 4/5] END clf__max_depth=5, clf__max_leaf_nodes=10, clf__min_samples_split=4, clf__n_estimators=5, clf__random_state=42;, score=0.938 total time=   0.0s\n",
      "[CV 5/5] END clf__max_depth=5, clf__max_leaf_nodes=10, clf__min_samples_split=4, clf__n_estimators=5, clf__random_state=42;, score=0.938 total time=   0.0s\n",
      "[CV 1/5] END clf__max_depth=5, clf__max_leaf_nodes=10, clf__min_samples_split=4, clf__n_estimators=10, clf__random_state=42;, score=0.750 total time=   0.0s\n",
      "[CV 2/5] END clf__max_depth=5, clf__max_leaf_nodes=10, clf__min_samples_split=4, clf__n_estimators=10, clf__random_state=42;, score=1.000 total time=   0.0s\n",
      "[CV 3/5] END clf__max_depth=5, clf__max_leaf_nodes=10, clf__min_samples_split=4, clf__n_estimators=10, clf__random_state=42;, score=0.812 total time=   0.0s\n",
      "[CV 4/5] END clf__max_depth=5, clf__max_leaf_nodes=10, clf__min_samples_split=4, clf__n_estimators=10, clf__random_state=42;, score=0.938 total time=   0.0s\n",
      "[CV 5/5] END clf__max_depth=5, clf__max_leaf_nodes=10, clf__min_samples_split=4, clf__n_estimators=10, clf__random_state=42;, score=0.938 total time=   0.0s\n",
      "[CV 1/5] END clf__max_depth=10, clf__max_leaf_nodes=2, clf__min_samples_split=2, clf__n_estimators=1, clf__random_state=42;, score=0.750 total time=   0.0s\n",
      "[CV 2/5] END clf__max_depth=10, clf__max_leaf_nodes=2, clf__min_samples_split=2, clf__n_estimators=1, clf__random_state=42;, score=0.812 total time=   0.0s\n",
      "[CV 3/5] END clf__max_depth=10, clf__max_leaf_nodes=2, clf__min_samples_split=2, clf__n_estimators=1, clf__random_state=42;, score=0.875 total time=   0.0s\n",
      "[CV 4/5] END clf__max_depth=10, clf__max_leaf_nodes=2, clf__min_samples_split=2, clf__n_estimators=1, clf__random_state=42;, score=0.500 total time=   0.0s\n",
      "[CV 5/5] END clf__max_depth=10, clf__max_leaf_nodes=2, clf__min_samples_split=2, clf__n_estimators=1, clf__random_state=42;, score=0.750 total time=   0.0s\n",
      "[CV 1/5] END clf__max_depth=10, clf__max_leaf_nodes=2, clf__min_samples_split=2, clf__n_estimators=5, clf__random_state=42;, score=0.875 total time=   0.0s\n",
      "[CV 2/5] END clf__max_depth=10, clf__max_leaf_nodes=2, clf__min_samples_split=2, clf__n_estimators=5, clf__random_state=42;, score=1.000 total time=   0.0s\n",
      "[CV 3/5] END clf__max_depth=10, clf__max_leaf_nodes=2, clf__min_samples_split=2, clf__n_estimators=5, clf__random_state=42;, score=0.938 total time=   0.0s\n",
      "[CV 4/5] END clf__max_depth=10, clf__max_leaf_nodes=2, clf__min_samples_split=2, clf__n_estimators=5, clf__random_state=42;, score=0.938 total time=   0.0s\n",
      "[CV 5/5] END clf__max_depth=10, clf__max_leaf_nodes=2, clf__min_samples_split=2, clf__n_estimators=5, clf__random_state=42;, score=0.938 total time=   0.0s\n",
      "[CV 1/5] END clf__max_depth=10, clf__max_leaf_nodes=2, clf__min_samples_split=2, clf__n_estimators=10, clf__random_state=42;, score=0.875 total time=   0.0s\n",
      "[CV 2/5] END clf__max_depth=10, clf__max_leaf_nodes=2, clf__min_samples_split=2, clf__n_estimators=10, clf__random_state=42;, score=1.000 total time=   0.0s\n",
      "[CV 3/5] END clf__max_depth=10, clf__max_leaf_nodes=2, clf__min_samples_split=2, clf__n_estimators=10, clf__random_state=42;, score=0.938 total time=   0.0s\n",
      "[CV 4/5] END clf__max_depth=10, clf__max_leaf_nodes=2, clf__min_samples_split=2, clf__n_estimators=10, clf__random_state=42;, score=0.938 total time=   0.0s\n",
      "[CV 5/5] END clf__max_depth=10, clf__max_leaf_nodes=2, clf__min_samples_split=2, clf__n_estimators=10, clf__random_state=42;, score=0.938 total time=   0.0s\n",
      "[CV 1/5] END clf__max_depth=10, clf__max_leaf_nodes=2, clf__min_samples_split=3, clf__n_estimators=1, clf__random_state=42;, score=0.750 total time=   0.0s\n",
      "[CV 2/5] END clf__max_depth=10, clf__max_leaf_nodes=2, clf__min_samples_split=3, clf__n_estimators=1, clf__random_state=42;, score=0.812 total time=   0.0s\n",
      "[CV 3/5] END clf__max_depth=10, clf__max_leaf_nodes=2, clf__min_samples_split=3, clf__n_estimators=1, clf__random_state=42;, score=0.875 total time=   0.0s\n",
      "[CV 4/5] END clf__max_depth=10, clf__max_leaf_nodes=2, clf__min_samples_split=3, clf__n_estimators=1, clf__random_state=42;, score=0.500 total time=   0.0s\n",
      "[CV 5/5] END clf__max_depth=10, clf__max_leaf_nodes=2, clf__min_samples_split=3, clf__n_estimators=1, clf__random_state=42;, score=0.750 total time=   0.0s\n"
     ]
    },
    {
     "name": "stdout",
     "output_type": "stream",
     "text": [
      "[CV 1/5] END clf__max_depth=10, clf__max_leaf_nodes=2, clf__min_samples_split=3, clf__n_estimators=5, clf__random_state=42;, score=0.875 total time=   0.0s\n",
      "[CV 2/5] END clf__max_depth=10, clf__max_leaf_nodes=2, clf__min_samples_split=3, clf__n_estimators=5, clf__random_state=42;, score=1.000 total time=   0.0s\n",
      "[CV 3/5] END clf__max_depth=10, clf__max_leaf_nodes=2, clf__min_samples_split=3, clf__n_estimators=5, clf__random_state=42;, score=0.938 total time=   0.0s\n",
      "[CV 4/5] END clf__max_depth=10, clf__max_leaf_nodes=2, clf__min_samples_split=3, clf__n_estimators=5, clf__random_state=42;, score=0.938 total time=   0.0s\n",
      "[CV 5/5] END clf__max_depth=10, clf__max_leaf_nodes=2, clf__min_samples_split=3, clf__n_estimators=5, clf__random_state=42;, score=0.938 total time=   0.0s\n",
      "[CV 1/5] END clf__max_depth=10, clf__max_leaf_nodes=2, clf__min_samples_split=3, clf__n_estimators=10, clf__random_state=42;, score=0.875 total time=   0.0s\n",
      "[CV 2/5] END clf__max_depth=10, clf__max_leaf_nodes=2, clf__min_samples_split=3, clf__n_estimators=10, clf__random_state=42;, score=1.000 total time=   0.0s\n",
      "[CV 3/5] END clf__max_depth=10, clf__max_leaf_nodes=2, clf__min_samples_split=3, clf__n_estimators=10, clf__random_state=42;, score=0.938 total time=   0.0s\n",
      "[CV 4/5] END clf__max_depth=10, clf__max_leaf_nodes=2, clf__min_samples_split=3, clf__n_estimators=10, clf__random_state=42;, score=0.938 total time=   0.0s\n",
      "[CV 5/5] END clf__max_depth=10, clf__max_leaf_nodes=2, clf__min_samples_split=3, clf__n_estimators=10, clf__random_state=42;, score=0.938 total time=   0.0s\n",
      "[CV 1/5] END clf__max_depth=10, clf__max_leaf_nodes=2, clf__min_samples_split=4, clf__n_estimators=1, clf__random_state=42;, score=0.750 total time=   0.0s\n",
      "[CV 2/5] END clf__max_depth=10, clf__max_leaf_nodes=2, clf__min_samples_split=4, clf__n_estimators=1, clf__random_state=42;, score=0.812 total time=   0.0s\n",
      "[CV 3/5] END clf__max_depth=10, clf__max_leaf_nodes=2, clf__min_samples_split=4, clf__n_estimators=1, clf__random_state=42;, score=0.875 total time=   0.0s\n",
      "[CV 4/5] END clf__max_depth=10, clf__max_leaf_nodes=2, clf__min_samples_split=4, clf__n_estimators=1, clf__random_state=42;, score=0.500 total time=   0.0s\n",
      "[CV 5/5] END clf__max_depth=10, clf__max_leaf_nodes=2, clf__min_samples_split=4, clf__n_estimators=1, clf__random_state=42;, score=0.750 total time=   0.0s\n",
      "[CV 1/5] END clf__max_depth=10, clf__max_leaf_nodes=2, clf__min_samples_split=4, clf__n_estimators=5, clf__random_state=42;, score=0.875 total time=   0.0s\n",
      "[CV 2/5] END clf__max_depth=10, clf__max_leaf_nodes=2, clf__min_samples_split=4, clf__n_estimators=5, clf__random_state=42;, score=1.000 total time=   0.0s\n",
      "[CV 3/5] END clf__max_depth=10, clf__max_leaf_nodes=2, clf__min_samples_split=4, clf__n_estimators=5, clf__random_state=42;, score=0.938 total time=   0.0s\n",
      "[CV 4/5] END clf__max_depth=10, clf__max_leaf_nodes=2, clf__min_samples_split=4, clf__n_estimators=5, clf__random_state=42;, score=0.938 total time=   0.0s\n",
      "[CV 5/5] END clf__max_depth=10, clf__max_leaf_nodes=2, clf__min_samples_split=4, clf__n_estimators=5, clf__random_state=42;, score=0.938 total time=   0.0s\n",
      "[CV 1/5] END clf__max_depth=10, clf__max_leaf_nodes=2, clf__min_samples_split=4, clf__n_estimators=10, clf__random_state=42;, score=0.875 total time=   0.0s\n",
      "[CV 2/5] END clf__max_depth=10, clf__max_leaf_nodes=2, clf__min_samples_split=4, clf__n_estimators=10, clf__random_state=42;, score=1.000 total time=   0.0s\n",
      "[CV 3/5] END clf__max_depth=10, clf__max_leaf_nodes=2, clf__min_samples_split=4, clf__n_estimators=10, clf__random_state=42;, score=0.938 total time=   0.0s\n",
      "[CV 4/5] END clf__max_depth=10, clf__max_leaf_nodes=2, clf__min_samples_split=4, clf__n_estimators=10, clf__random_state=42;, score=0.938 total time=   0.0s\n",
      "[CV 5/5] END clf__max_depth=10, clf__max_leaf_nodes=2, clf__min_samples_split=4, clf__n_estimators=10, clf__random_state=42;, score=0.938 total time=   0.0s\n",
      "[CV 1/5] END clf__max_depth=10, clf__max_leaf_nodes=5, clf__min_samples_split=2, clf__n_estimators=1, clf__random_state=42;, score=0.812 total time=   0.0s\n",
      "[CV 2/5] END clf__max_depth=10, clf__max_leaf_nodes=5, clf__min_samples_split=2, clf__n_estimators=1, clf__random_state=42;, score=1.000 total time=   0.0s\n",
      "[CV 3/5] END clf__max_depth=10, clf__max_leaf_nodes=5, clf__min_samples_split=2, clf__n_estimators=1, clf__random_state=42;, score=0.750 total time=   0.0s\n",
      "[CV 4/5] END clf__max_depth=10, clf__max_leaf_nodes=5, clf__min_samples_split=2, clf__n_estimators=1, clf__random_state=42;, score=0.812 total time=   0.0s\n",
      "[CV 5/5] END clf__max_depth=10, clf__max_leaf_nodes=5, clf__min_samples_split=2, clf__n_estimators=1, clf__random_state=42;, score=0.938 total time=   0.0s\n",
      "[CV 1/5] END clf__max_depth=10, clf__max_leaf_nodes=5, clf__min_samples_split=2, clf__n_estimators=5, clf__random_state=42;, score=0.750 total time=   0.0s\n",
      "[CV 2/5] END clf__max_depth=10, clf__max_leaf_nodes=5, clf__min_samples_split=2, clf__n_estimators=5, clf__random_state=42;, score=1.000 total time=   0.0s\n",
      "[CV 3/5] END clf__max_depth=10, clf__max_leaf_nodes=5, clf__min_samples_split=2, clf__n_estimators=5, clf__random_state=42;, score=0.812 total time=   0.0s\n",
      "[CV 4/5] END clf__max_depth=10, clf__max_leaf_nodes=5, clf__min_samples_split=2, clf__n_estimators=5, clf__random_state=42;, score=0.938 total time=   0.0s\n",
      "[CV 5/5] END clf__max_depth=10, clf__max_leaf_nodes=5, clf__min_samples_split=2, clf__n_estimators=5, clf__random_state=42;, score=0.938 total time=   0.0s\n",
      "[CV 1/5] END clf__max_depth=10, clf__max_leaf_nodes=5, clf__min_samples_split=2, clf__n_estimators=10, clf__random_state=42;, score=0.750 total time=   0.0s\n",
      "[CV 2/5] END clf__max_depth=10, clf__max_leaf_nodes=5, clf__min_samples_split=2, clf__n_estimators=10, clf__random_state=42;, score=1.000 total time=   0.0s\n",
      "[CV 3/5] END clf__max_depth=10, clf__max_leaf_nodes=5, clf__min_samples_split=2, clf__n_estimators=10, clf__random_state=42;, score=0.812 total time=   0.0s\n",
      "[CV 4/5] END clf__max_depth=10, clf__max_leaf_nodes=5, clf__min_samples_split=2, clf__n_estimators=10, clf__random_state=42;, score=0.938 total time=   0.0s\n",
      "[CV 5/5] END clf__max_depth=10, clf__max_leaf_nodes=5, clf__min_samples_split=2, clf__n_estimators=10, clf__random_state=42;, score=0.938 total time=   0.0s\n",
      "[CV 1/5] END clf__max_depth=10, clf__max_leaf_nodes=5, clf__min_samples_split=3, clf__n_estimators=1, clf__random_state=42;, score=0.812 total time=   0.0s\n",
      "[CV 2/5] END clf__max_depth=10, clf__max_leaf_nodes=5, clf__min_samples_split=3, clf__n_estimators=1, clf__random_state=42;, score=1.000 total time=   0.0s\n",
      "[CV 3/5] END clf__max_depth=10, clf__max_leaf_nodes=5, clf__min_samples_split=3, clf__n_estimators=1, clf__random_state=42;, score=0.750 total time=   0.0s\n",
      "[CV 4/5] END clf__max_depth=10, clf__max_leaf_nodes=5, clf__min_samples_split=3, clf__n_estimators=1, clf__random_state=42;, score=0.812 total time=   0.0s\n",
      "[CV 5/5] END clf__max_depth=10, clf__max_leaf_nodes=5, clf__min_samples_split=3, clf__n_estimators=1, clf__random_state=42;, score=0.938 total time=   0.0s\n",
      "[CV 1/5] END clf__max_depth=10, clf__max_leaf_nodes=5, clf__min_samples_split=3, clf__n_estimators=5, clf__random_state=42;, score=0.750 total time=   0.0s\n",
      "[CV 2/5] END clf__max_depth=10, clf__max_leaf_nodes=5, clf__min_samples_split=3, clf__n_estimators=5, clf__random_state=42;, score=1.000 total time=   0.0s\n",
      "[CV 3/5] END clf__max_depth=10, clf__max_leaf_nodes=5, clf__min_samples_split=3, clf__n_estimators=5, clf__random_state=42;, score=0.812 total time=   0.0s\n",
      "[CV 4/5] END clf__max_depth=10, clf__max_leaf_nodes=5, clf__min_samples_split=3, clf__n_estimators=5, clf__random_state=42;, score=0.938 total time=   0.0s\n",
      "[CV 5/5] END clf__max_depth=10, clf__max_leaf_nodes=5, clf__min_samples_split=3, clf__n_estimators=5, clf__random_state=42;, score=0.938 total time=   0.0s\n",
      "[CV 1/5] END clf__max_depth=10, clf__max_leaf_nodes=5, clf__min_samples_split=3, clf__n_estimators=10, clf__random_state=42;, score=0.750 total time=   0.0s\n",
      "[CV 2/5] END clf__max_depth=10, clf__max_leaf_nodes=5, clf__min_samples_split=3, clf__n_estimators=10, clf__random_state=42;, score=1.000 total time=   0.0s\n",
      "[CV 3/5] END clf__max_depth=10, clf__max_leaf_nodes=5, clf__min_samples_split=3, clf__n_estimators=10, clf__random_state=42;, score=0.812 total time=   0.0s\n",
      "[CV 4/5] END clf__max_depth=10, clf__max_leaf_nodes=5, clf__min_samples_split=3, clf__n_estimators=10, clf__random_state=42;, score=0.938 total time=   0.0s\n",
      "[CV 5/5] END clf__max_depth=10, clf__max_leaf_nodes=5, clf__min_samples_split=3, clf__n_estimators=10, clf__random_state=42;, score=0.938 total time=   0.0s\n",
      "[CV 1/5] END clf__max_depth=10, clf__max_leaf_nodes=5, clf__min_samples_split=4, clf__n_estimators=1, clf__random_state=42;, score=0.812 total time=   0.0s\n",
      "[CV 2/5] END clf__max_depth=10, clf__max_leaf_nodes=5, clf__min_samples_split=4, clf__n_estimators=1, clf__random_state=42;, score=1.000 total time=   0.0s\n",
      "[CV 3/5] END clf__max_depth=10, clf__max_leaf_nodes=5, clf__min_samples_split=4, clf__n_estimators=1, clf__random_state=42;, score=0.750 total time=   0.0s\n",
      "[CV 4/5] END clf__max_depth=10, clf__max_leaf_nodes=5, clf__min_samples_split=4, clf__n_estimators=1, clf__random_state=42;, score=0.812 total time=   0.0s\n",
      "[CV 5/5] END clf__max_depth=10, clf__max_leaf_nodes=5, clf__min_samples_split=4, clf__n_estimators=1, clf__random_state=42;, score=0.938 total time=   0.0s\n",
      "[CV 1/5] END clf__max_depth=10, clf__max_leaf_nodes=5, clf__min_samples_split=4, clf__n_estimators=5, clf__random_state=42;, score=0.750 total time=   0.0s\n"
     ]
    },
    {
     "name": "stdout",
     "output_type": "stream",
     "text": [
      "[CV 2/5] END clf__max_depth=10, clf__max_leaf_nodes=5, clf__min_samples_split=4, clf__n_estimators=5, clf__random_state=42;, score=1.000 total time=   0.0s\n",
      "[CV 3/5] END clf__max_depth=10, clf__max_leaf_nodes=5, clf__min_samples_split=4, clf__n_estimators=5, clf__random_state=42;, score=0.812 total time=   0.0s\n",
      "[CV 4/5] END clf__max_depth=10, clf__max_leaf_nodes=5, clf__min_samples_split=4, clf__n_estimators=5, clf__random_state=42;, score=0.938 total time=   0.0s\n",
      "[CV 5/5] END clf__max_depth=10, clf__max_leaf_nodes=5, clf__min_samples_split=4, clf__n_estimators=5, clf__random_state=42;, score=0.938 total time=   0.0s\n",
      "[CV 1/5] END clf__max_depth=10, clf__max_leaf_nodes=5, clf__min_samples_split=4, clf__n_estimators=10, clf__random_state=42;, score=0.750 total time=   0.0s\n",
      "[CV 2/5] END clf__max_depth=10, clf__max_leaf_nodes=5, clf__min_samples_split=4, clf__n_estimators=10, clf__random_state=42;, score=1.000 total time=   0.0s\n",
      "[CV 3/5] END clf__max_depth=10, clf__max_leaf_nodes=5, clf__min_samples_split=4, clf__n_estimators=10, clf__random_state=42;, score=0.812 total time=   0.0s\n",
      "[CV 4/5] END clf__max_depth=10, clf__max_leaf_nodes=5, clf__min_samples_split=4, clf__n_estimators=10, clf__random_state=42;, score=0.938 total time=   0.0s\n",
      "[CV 5/5] END clf__max_depth=10, clf__max_leaf_nodes=5, clf__min_samples_split=4, clf__n_estimators=10, clf__random_state=42;, score=0.938 total time=   0.0s\n",
      "[CV 1/5] END clf__max_depth=10, clf__max_leaf_nodes=10, clf__min_samples_split=2, clf__n_estimators=1, clf__random_state=42;, score=0.812 total time=   0.0s\n",
      "[CV 2/5] END clf__max_depth=10, clf__max_leaf_nodes=10, clf__min_samples_split=2, clf__n_estimators=1, clf__random_state=42;, score=0.938 total time=   0.0s\n",
      "[CV 3/5] END clf__max_depth=10, clf__max_leaf_nodes=10, clf__min_samples_split=2, clf__n_estimators=1, clf__random_state=42;, score=0.688 total time=   0.0s\n",
      "[CV 4/5] END clf__max_depth=10, clf__max_leaf_nodes=10, clf__min_samples_split=2, clf__n_estimators=1, clf__random_state=42;, score=0.938 total time=   0.0s\n",
      "[CV 5/5] END clf__max_depth=10, clf__max_leaf_nodes=10, clf__min_samples_split=2, clf__n_estimators=1, clf__random_state=42;, score=0.938 total time=   0.0s\n",
      "[CV 1/5] END clf__max_depth=10, clf__max_leaf_nodes=10, clf__min_samples_split=2, clf__n_estimators=5, clf__random_state=42;, score=0.750 total time=   0.0s\n",
      "[CV 2/5] END clf__max_depth=10, clf__max_leaf_nodes=10, clf__min_samples_split=2, clf__n_estimators=5, clf__random_state=42;, score=1.000 total time=   0.0s\n",
      "[CV 3/5] END clf__max_depth=10, clf__max_leaf_nodes=10, clf__min_samples_split=2, clf__n_estimators=5, clf__random_state=42;, score=0.812 total time=   0.0s\n",
      "[CV 4/5] END clf__max_depth=10, clf__max_leaf_nodes=10, clf__min_samples_split=2, clf__n_estimators=5, clf__random_state=42;, score=0.938 total time=   0.0s\n",
      "[CV 5/5] END clf__max_depth=10, clf__max_leaf_nodes=10, clf__min_samples_split=2, clf__n_estimators=5, clf__random_state=42;, score=0.938 total time=   0.0s\n",
      "[CV 1/5] END clf__max_depth=10, clf__max_leaf_nodes=10, clf__min_samples_split=2, clf__n_estimators=10, clf__random_state=42;, score=0.750 total time=   0.0s\n",
      "[CV 2/5] END clf__max_depth=10, clf__max_leaf_nodes=10, clf__min_samples_split=2, clf__n_estimators=10, clf__random_state=42;, score=1.000 total time=   0.0s\n",
      "[CV 3/5] END clf__max_depth=10, clf__max_leaf_nodes=10, clf__min_samples_split=2, clf__n_estimators=10, clf__random_state=42;, score=0.812 total time=   0.0s\n",
      "[CV 4/5] END clf__max_depth=10, clf__max_leaf_nodes=10, clf__min_samples_split=2, clf__n_estimators=10, clf__random_state=42;, score=0.938 total time=   0.0s\n",
      "[CV 5/5] END clf__max_depth=10, clf__max_leaf_nodes=10, clf__min_samples_split=2, clf__n_estimators=10, clf__random_state=42;, score=0.938 total time=   0.0s\n",
      "[CV 1/5] END clf__max_depth=10, clf__max_leaf_nodes=10, clf__min_samples_split=3, clf__n_estimators=1, clf__random_state=42;, score=0.812 total time=   0.0s\n",
      "[CV 2/5] END clf__max_depth=10, clf__max_leaf_nodes=10, clf__min_samples_split=3, clf__n_estimators=1, clf__random_state=42;, score=0.938 total time=   0.0s\n",
      "[CV 3/5] END clf__max_depth=10, clf__max_leaf_nodes=10, clf__min_samples_split=3, clf__n_estimators=1, clf__random_state=42;, score=0.688 total time=   0.0s\n",
      "[CV 4/5] END clf__max_depth=10, clf__max_leaf_nodes=10, clf__min_samples_split=3, clf__n_estimators=1, clf__random_state=42;, score=0.938 total time=   0.0s\n",
      "[CV 5/5] END clf__max_depth=10, clf__max_leaf_nodes=10, clf__min_samples_split=3, clf__n_estimators=1, clf__random_state=42;, score=0.938 total time=   0.0s\n",
      "[CV 1/5] END clf__max_depth=10, clf__max_leaf_nodes=10, clf__min_samples_split=3, clf__n_estimators=5, clf__random_state=42;, score=0.750 total time=   0.0s\n",
      "[CV 2/5] END clf__max_depth=10, clf__max_leaf_nodes=10, clf__min_samples_split=3, clf__n_estimators=5, clf__random_state=42;, score=1.000 total time=   0.0s\n",
      "[CV 3/5] END clf__max_depth=10, clf__max_leaf_nodes=10, clf__min_samples_split=3, clf__n_estimators=5, clf__random_state=42;, score=0.812 total time=   0.0s\n",
      "[CV 4/5] END clf__max_depth=10, clf__max_leaf_nodes=10, clf__min_samples_split=3, clf__n_estimators=5, clf__random_state=42;, score=0.938 total time=   0.0s\n",
      "[CV 5/5] END clf__max_depth=10, clf__max_leaf_nodes=10, clf__min_samples_split=3, clf__n_estimators=5, clf__random_state=42;, score=0.938 total time=   0.0s\n",
      "[CV 1/5] END clf__max_depth=10, clf__max_leaf_nodes=10, clf__min_samples_split=3, clf__n_estimators=10, clf__random_state=42;, score=0.750 total time=   0.0s\n",
      "[CV 2/5] END clf__max_depth=10, clf__max_leaf_nodes=10, clf__min_samples_split=3, clf__n_estimators=10, clf__random_state=42;, score=1.000 total time=   0.0s\n",
      "[CV 3/5] END clf__max_depth=10, clf__max_leaf_nodes=10, clf__min_samples_split=3, clf__n_estimators=10, clf__random_state=42;, score=0.812 total time=   0.0s\n",
      "[CV 4/5] END clf__max_depth=10, clf__max_leaf_nodes=10, clf__min_samples_split=3, clf__n_estimators=10, clf__random_state=42;, score=0.938 total time=   0.0s\n",
      "[CV 5/5] END clf__max_depth=10, clf__max_leaf_nodes=10, clf__min_samples_split=3, clf__n_estimators=10, clf__random_state=42;, score=0.938 total time=   0.0s\n",
      "[CV 1/5] END clf__max_depth=10, clf__max_leaf_nodes=10, clf__min_samples_split=4, clf__n_estimators=1, clf__random_state=42;, score=0.812 total time=   0.0s\n",
      "[CV 2/5] END clf__max_depth=10, clf__max_leaf_nodes=10, clf__min_samples_split=4, clf__n_estimators=1, clf__random_state=42;, score=0.938 total time=   0.0s\n",
      "[CV 3/5] END clf__max_depth=10, clf__max_leaf_nodes=10, clf__min_samples_split=4, clf__n_estimators=1, clf__random_state=42;, score=0.688 total time=   0.0s\n",
      "[CV 4/5] END clf__max_depth=10, clf__max_leaf_nodes=10, clf__min_samples_split=4, clf__n_estimators=1, clf__random_state=42;, score=0.938 total time=   0.0s\n",
      "[CV 5/5] END clf__max_depth=10, clf__max_leaf_nodes=10, clf__min_samples_split=4, clf__n_estimators=1, clf__random_state=42;, score=0.938 total time=   0.0s\n",
      "[CV 1/5] END clf__max_depth=10, clf__max_leaf_nodes=10, clf__min_samples_split=4, clf__n_estimators=5, clf__random_state=42;, score=0.750 total time=   0.0s\n",
      "[CV 2/5] END clf__max_depth=10, clf__max_leaf_nodes=10, clf__min_samples_split=4, clf__n_estimators=5, clf__random_state=42;, score=1.000 total time=   0.0s\n",
      "[CV 3/5] END clf__max_depth=10, clf__max_leaf_nodes=10, clf__min_samples_split=4, clf__n_estimators=5, clf__random_state=42;, score=0.812 total time=   0.0s\n",
      "[CV 4/5] END clf__max_depth=10, clf__max_leaf_nodes=10, clf__min_samples_split=4, clf__n_estimators=5, clf__random_state=42;, score=0.938 total time=   0.0s\n",
      "[CV 5/5] END clf__max_depth=10, clf__max_leaf_nodes=10, clf__min_samples_split=4, clf__n_estimators=5, clf__random_state=42;, score=0.938 total time=   0.0s\n",
      "[CV 1/5] END clf__max_depth=10, clf__max_leaf_nodes=10, clf__min_samples_split=4, clf__n_estimators=10, clf__random_state=42;, score=0.750 total time=   0.0s\n",
      "[CV 2/5] END clf__max_depth=10, clf__max_leaf_nodes=10, clf__min_samples_split=4, clf__n_estimators=10, clf__random_state=42;, score=1.000 total time=   0.0s\n",
      "[CV 3/5] END clf__max_depth=10, clf__max_leaf_nodes=10, clf__min_samples_split=4, clf__n_estimators=10, clf__random_state=42;, score=0.812 total time=   0.0s\n",
      "[CV 4/5] END clf__max_depth=10, clf__max_leaf_nodes=10, clf__min_samples_split=4, clf__n_estimators=10, clf__random_state=42;, score=0.938 total time=   0.0s\n"
     ]
    },
    {
     "name": "stdout",
     "output_type": "stream",
     "text": [
      "[CV 5/5] END clf__max_depth=10, clf__max_leaf_nodes=10, clf__min_samples_split=4, clf__n_estimators=10, clf__random_state=42;, score=0.938 total time=   0.0s\n",
      "Training took 0.09 minutes\n",
      "Evaluating model...\n",
      "100.0%\n"
     ]
    }
   ],
   "source": [
    "print('Training model...')\n",
    "start = time.time()\n",
    "model.fit(X_train, Y_train)\n",
    "print('Training took {} minutes'.format(round((time.time() - start)/60, 2)))\n",
    "print('Evaluating model...')\n",
    "evaluate_model(model, X_test, Y_test)"
   ]
  },
  {
   "cell_type": "markdown",
   "metadata": {},
   "source": [
    "On my machine, the first solution took 0.14 minutes to train with 100% accuracy, while the second solution took 0.08 minutes to train also with 100% accuracy. The good thing is that the second solution took less time to traine with the same accuracy, thus making our pipeline go faster.\n",
    "Since the second solution is better, we''l just save it."
   ]
  },
  {
   "cell_type": "code",
   "execution_count": 17,
   "metadata": {},
   "outputs": [
    {
     "name": "stdout",
     "output_type": "stream",
     "text": [
      "Saving...\n",
      "Model saved\n"
     ]
    }
   ],
   "source": [
    "print('Saving...')\n",
    "save_model(model, 'model.pkl')\n",
    "print('Model saved')"
   ]
  },
  {
   "cell_type": "markdown",
   "metadata": {},
   "source": [
    "# The web app"
   ]
  },
  {
   "cell_type": "markdown",
   "metadata": {},
   "source": [
    "I actually created a web app with flask that uses this model we just created. Just run the app.py file in the project folder after running all cells in this notebook. Then go to localhost:5000 and you'll get a web interface for you to test the model for yourself. For more info, checkout the README file."
   ]
  },
  {
   "cell_type": "markdown",
   "metadata": {},
   "source": [
    "# Conclusion"
   ]
  },
  {
   "cell_type": "markdown",
   "metadata": {},
   "source": [
    "Throughout this project, I collected a dataset that contains some information about some books on audible, like their member price, and duration. I then labeled every book with if it's good to spend an audible credit on that book or not. I then started exploring the dataset on this notebook and made a machine learning model to hopefully help me and others to decide if it's a good idea to buy a book with a credit, or just use the 30% discount that comes with all audible memberships. As for difficulty, I think that collecting the data was the hardest part. It took me some time to gather everything and label every book. But I made a script to help with that, and it actually helped. As for the improvements, I'm honestly happy that I managed to get to 100% accuracy with my model, and for me that means I really did good with all the steps I did before, from data collection to building the machine learning pipeline and what not, however, I think that it could be deceiving just as much. I think I need more data to really test the model. For now I have just 100 books and it's enough for now, but I'd love me some data that go to other ranges of numbers too."
   ]
  }
 ],
 "metadata": {
  "kernelspec": {
   "display_name": "Python 3 (ipykernel)",
   "language": "python",
   "name": "python3"
  },
  "language_info": {
   "codemirror_mode": {
    "name": "ipython",
    "version": 3
   },
   "file_extension": ".py",
   "mimetype": "text/x-python",
   "name": "python",
   "nbconvert_exporter": "python",
   "pygments_lexer": "ipython3",
   "version": "3.8.12"
  }
 },
 "nbformat": 4,
 "nbformat_minor": 4
}
